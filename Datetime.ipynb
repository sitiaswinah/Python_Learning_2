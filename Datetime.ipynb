{
 "cells": [
  {
   "cell_type": "code",
   "execution_count": 3,
   "id": "46ede6c4-0750-40b7-a0d4-ac0510c7228d",
   "metadata": {},
   "outputs": [],
   "source": [
    "import datetime"
   ]
  },
  {
   "cell_type": "code",
   "execution_count": 4,
   "id": "f66bf4f7-a3b2-4e34-94d7-d106ca48a57f",
   "metadata": {},
   "outputs": [],
   "source": [
    "todayWithTime = datetime.datetime.today()"
   ]
  },
  {
   "cell_type": "code",
   "execution_count": 5,
   "id": "b5a0f87d-5a7c-4dfe-8fc3-2c444c61c20e",
   "metadata": {},
   "outputs": [
    {
     "data": {
      "text/plain": [
       "datetime.datetime(2024, 4, 19, 8, 45, 39, 300609)"
      ]
     },
     "execution_count": 5,
     "metadata": {},
     "output_type": "execute_result"
    }
   ],
   "source": [
    "todayWithTime"
   ]
  },
  {
   "cell_type": "code",
   "execution_count": 6,
   "id": "132ffdff-6e6c-406d-9cea-00c19e668760",
   "metadata": {},
   "outputs": [],
   "source": [
    "todayWithTime = datetime.date.today()"
   ]
  },
  {
   "cell_type": "code",
   "execution_count": 7,
   "id": "9d7e9d69-4054-48e5-a0e0-77e3042c8083",
   "metadata": {},
   "outputs": [
    {
     "data": {
      "text/plain": [
       "datetime.date(2024, 4, 19)"
      ]
     },
     "execution_count": 7,
     "metadata": {},
     "output_type": "execute_result"
    }
   ],
   "source": [
    "todayWithTime"
   ]
  },
  {
   "cell_type": "code",
   "execution_count": 8,
   "id": "628447d3-7ef2-4233-b035-9ea581a8b08a",
   "metadata": {},
   "outputs": [],
   "source": [
    "formatting_time = datetime.datetime.strftime(todayWithTime, \"%H: %M: %S\")"
   ]
  },
  {
   "cell_type": "code",
   "execution_count": 9,
   "id": "e7b0de08-9e26-41dc-90d7-9466a2b73961",
   "metadata": {},
   "outputs": [
    {
     "data": {
      "text/plain": [
       "'00: 00: 00'"
      ]
     },
     "execution_count": 9,
     "metadata": {},
     "output_type": "execute_result"
    }
   ],
   "source": [
    "formatting_time"
   ]
  },
  {
   "cell_type": "code",
   "execution_count": 10,
   "id": "13af2483-e219-40d5-8748-665f2bf7c69b",
   "metadata": {},
   "outputs": [],
   "source": [
    "formatting_time = datetime.datetime.strftime(todayWithTime, \"%H/%M/%S\")"
   ]
  },
  {
   "cell_type": "code",
   "execution_count": 11,
   "id": "a9a582ff-cde9-4347-aa01-664474be293c",
   "metadata": {},
   "outputs": [
    {
     "data": {
      "text/plain": [
       "'00/00/00'"
      ]
     },
     "execution_count": 11,
     "metadata": {},
     "output_type": "execute_result"
    }
   ],
   "source": [
    "formatting_time"
   ]
  },
  {
   "cell_type": "markdown",
   "id": "ba0063c0-3723-4a0e-a743-5df5e8f40302",
   "metadata": {},
   "source": [
    "## Task"
   ]
  },
  {
   "cell_type": "markdown",
   "id": "960da23a-bf6d-4784-b392-402474f6605a",
   "metadata": {},
   "source": [
    "**task 1**"
   ]
  },
  {
   "cell_type": "code",
   "execution_count": 12,
   "id": "786402b4-938b-4aba-a14d-fe0478a1f30a",
   "metadata": {},
   "outputs": [],
   "source": [
    "formatting_time = datetime.datetime.strftime(todayWithTime, \"%H,%M,%S\")"
   ]
  },
  {
   "cell_type": "code",
   "execution_count": 13,
   "id": "db135fc8-0aaf-4dee-b7b0-458a1b5e468a",
   "metadata": {},
   "outputs": [
    {
     "data": {
      "text/plain": [
       "'00,00,00'"
      ]
     },
     "execution_count": 13,
     "metadata": {},
     "output_type": "execute_result"
    }
   ],
   "source": [
    "formatting_time"
   ]
  },
  {
   "cell_type": "code",
   "execution_count": 14,
   "id": "4f5fc6a6-afd4-4f8c-add1-95ade8b149f2",
   "metadata": {},
   "outputs": [],
   "source": [
    "formatting_time = datetime.datetime.strftime(todayWithTime, \"%Y-%m-%d %H:%M:%S\")"
   ]
  },
  {
   "cell_type": "code",
   "execution_count": 15,
   "id": "4413d7d1-5060-40e8-8a8c-08a98e95efe8",
   "metadata": {},
   "outputs": [
    {
     "data": {
      "text/plain": [
       "'2024-04-19 00:00:00'"
      ]
     },
     "execution_count": 15,
     "metadata": {},
     "output_type": "execute_result"
    }
   ],
   "source": [
    "formatting_time"
   ]
  }
 ],
 "metadata": {
  "kernelspec": {
   "display_name": "Python 3 (ipykernel)",
   "language": "python",
   "name": "python3"
  },
  "language_info": {
   "codemirror_mode": {
    "name": "ipython",
    "version": 3
   },
   "file_extension": ".py",
   "mimetype": "text/x-python",
   "name": "python",
   "nbconvert_exporter": "python",
   "pygments_lexer": "ipython3",
   "version": "3.11.7"
  }
 },
 "nbformat": 4,
 "nbformat_minor": 5
}
