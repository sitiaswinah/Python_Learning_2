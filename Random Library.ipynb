{
 "cells": [
  {
   "cell_type": "markdown",
   "id": "eedf1c92-aa4b-4e8f-af55-d0ad01d208d1",
   "metadata": {},
   "source": [
    "**Random Library**"
   ]
  },
  {
   "cell_type": "code",
   "execution_count": 1,
   "id": "d51b8e31-0d01-46f6-8401-37cb0596f7af",
   "metadata": {},
   "outputs": [],
   "source": [
    "from random import randint"
   ]
  },
  {
   "cell_type": "code",
   "execution_count": 3,
   "id": "860339f8-0396-49b7-99f3-115a55d2d45a",
   "metadata": {},
   "outputs": [
    {
     "name": "stdout",
     "output_type": "stream",
     "text": [
      "Random num 0 is 3\n",
      "Random num 1 is 8\n",
      "Random num 2 is 3\n",
      "Random num 3 is 8\n",
      "Random num 4 is 4\n",
      "Random num 5 is 8\n",
      "Random num 6 is 2\n",
      "Random num 7 is 2\n",
      "Random num 8 is 8\n",
      "Random num 9 is 6\n"
     ]
    }
   ],
   "source": [
    "for i in range(10):\n",
    "    print(f\"Random num {i} is {randint(1,10)}\")"
   ]
  },
  {
   "cell_type": "code",
   "execution_count": 4,
   "id": "ffbdf445-f4bb-41f6-a4ab-2b1b4d8a6fb6",
   "metadata": {},
   "outputs": [
    {
     "name": "stdout",
     "output_type": "stream",
     "text": [
      "Random num 0 is 6\n",
      "Random num 1 is 8\n",
      "Random num 2 is 7\n",
      "Random num 3 is 6\n",
      "Random num 4 is 2\n",
      "Random num 5 is 7\n",
      "Random num 6 is 8\n",
      "Random num 7 is 7\n",
      "Random num 8 is 8\n",
      "Random num 9 is 1\n"
     ]
    }
   ],
   "source": [
    "for i in range(10):\n",
    "    print(f\"Random num {i} is {randint(1,10)}\")"
   ]
  },
  {
   "cell_type": "markdown",
   "id": "b1567714-cef1-407b-93b3-c9ff700816b8",
   "metadata": {},
   "source": [
    "## Task"
   ]
  },
  {
   "cell_type": "markdown",
   "id": "ba20c0a6-b8c5-42b8-90fa-2ac1eb9bba07",
   "metadata": {},
   "source": [
    "**Task 1**"
   ]
  },
  {
   "cell_type": "code",
   "execution_count": 7,
   "id": "9d4684ab-9715-433a-b443-293b65150261",
   "metadata": {},
   "outputs": [],
   "source": [
    "from random import randint"
   ]
  },
  {
   "cell_type": "code",
   "execution_count": 8,
   "id": "5379fb0d-19fc-4431-9f1e-583ad8cac731",
   "metadata": {},
   "outputs": [
    {
     "name": "stdout",
     "output_type": "stream",
     "text": [
      "Random num 0 is 1\n",
      "Random num 1 is 4\n",
      "Random num 2 is 7\n",
      "Random num 3 is 2\n",
      "Random num 4 is 4\n",
      "Random num 5 is 7\n",
      "Random num 6 is 3\n",
      "Random num 7 is 6\n",
      "Random num 8 is 6\n",
      "Random num 9 is 3\n"
     ]
    }
   ],
   "source": [
    "for a in range(10):\n",
    "    print(f\"Random num {a} is {randint(1,7)}\")"
   ]
  },
  {
   "cell_type": "code",
   "execution_count": null,
   "id": "522c78fb-3498-4c55-b0f9-78ec8bdd05d2",
   "metadata": {},
   "outputs": [],
   "source": []
  }
 ],
 "metadata": {
  "kernelspec": {
   "display_name": "Python 3 (ipykernel)",
   "language": "python",
   "name": "python3"
  },
  "language_info": {
   "codemirror_mode": {
    "name": "ipython",
    "version": 3
   },
   "file_extension": ".py",
   "mimetype": "text/x-python",
   "name": "python",
   "nbconvert_exporter": "python",
   "pygments_lexer": "ipython3",
   "version": "3.11.7"
  }
 },
 "nbformat": 4,
 "nbformat_minor": 5
}
