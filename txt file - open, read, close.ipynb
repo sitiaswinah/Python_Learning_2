{
 "cells": [
  {
   "cell_type": "markdown",
   "id": "24a479b1-14c0-4c64-a3a3-09557e14ed2d",
   "metadata": {},
   "source": [
    "**open**"
   ]
  },
  {
   "cell_type": "code",
   "execution_count": 10,
   "id": "43f70c7b-6a7f-4c98-9ed8-616b191a47b1",
   "metadata": {},
   "outputs": [],
   "source": [
    "workFile = open('kel4.txt', 'r')"
   ]
  },
  {
   "cell_type": "code",
   "execution_count": 11,
   "id": "8cc713a0-3748-4aa5-8c94-854ef4c64d0c",
   "metadata": {},
   "outputs": [],
   "source": [
    "workFileContents = workFile.read()"
   ]
  },
  {
   "cell_type": "code",
   "execution_count": 12,
   "id": "2e14119c-b2e0-44ca-b053-df7c638d0790",
   "metadata": {},
   "outputs": [
    {
     "name": "stdout",
     "output_type": "stream",
     "text": [
      "Siti Aswinah, pandeglang, 4021\n",
      "Shafira Khansa Raihana, Bekasi, 4022\n",
      "Alnima Shakiya, Lampung, 4023\n",
      "Andhito Galih Nur Cahyo, Medan, 4024\n",
      "Ni Luh Sri Laksmi Ariyani, Bali, 4025\n"
     ]
    }
   ],
   "source": [
    "print(workFileContents)"
   ]
  },
  {
   "cell_type": "markdown",
   "id": "aa73e697-e389-407e-8bfc-ead36f315a4d",
   "metadata": {},
   "source": [
    "**read**"
   ]
  },
  {
   "cell_type": "code",
   "execution_count": 13,
   "id": "655285e9-b447-4aff-92a0-0d023a62c485",
   "metadata": {},
   "outputs": [],
   "source": [
    "workFile = open('kel4.txt', 'r')"
   ]
  },
  {
   "cell_type": "code",
   "execution_count": 14,
   "id": "815b2d9b-f2fc-400c-adb9-6bf10f0e4887",
   "metadata": {},
   "outputs": [],
   "source": [
    "workFileFirstLine = workFile.readline()"
   ]
  },
  {
   "cell_type": "code",
   "execution_count": 15,
   "id": "25cbad27-64c5-4227-9363-5b4be22015e3",
   "metadata": {},
   "outputs": [
    {
     "name": "stdout",
     "output_type": "stream",
     "text": [
      "Siti Aswinah, pandeglang, 4021\n",
      "\n"
     ]
    }
   ],
   "source": [
    "print(workFileFirstLine)"
   ]
  },
  {
   "cell_type": "code",
   "execution_count": 16,
   "id": "e12d157b-4e90-41f5-a0dd-c00be50c1006",
   "metadata": {},
   "outputs": [],
   "source": [
    "workFileSecondLine = workFile.readline()"
   ]
  },
  {
   "cell_type": "code",
   "execution_count": 17,
   "id": "bd6c09d6-5567-46e7-b59d-cb57a5a16dbf",
   "metadata": {},
   "outputs": [
    {
     "name": "stdout",
     "output_type": "stream",
     "text": [
      "Shafira Khansa Raihana, Bekasi, 4022\n",
      "\n"
     ]
    }
   ],
   "source": [
    "print(workFileSecondLine)"
   ]
  },
  {
   "cell_type": "markdown",
   "id": "bff7ce8e-9b37-4db0-baa6-4bff6d0d9af8",
   "metadata": {},
   "source": [
    "**close**"
   ]
  },
  {
   "cell_type": "code",
   "execution_count": 18,
   "id": "968b423f-17fe-4f1b-8fdd-84c7c187c96b",
   "metadata": {},
   "outputs": [],
   "source": [
    "workFile.close()"
   ]
  }
 ],
 "metadata": {
  "kernelspec": {
   "display_name": "Python 3 (ipykernel)",
   "language": "python",
   "name": "python3"
  },
  "language_info": {
   "codemirror_mode": {
    "name": "ipython",
    "version": 3
   },
   "file_extension": ".py",
   "mimetype": "text/x-python",
   "name": "python",
   "nbconvert_exporter": "python",
   "pygments_lexer": "ipython3",
   "version": "3.11.7"
  }
 },
 "nbformat": 4,
 "nbformat_minor": 5
}
