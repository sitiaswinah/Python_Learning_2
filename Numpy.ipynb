{
 "cells": [
  {
   "cell_type": "code",
   "execution_count": 8,
   "id": "b00c99f2-24e5-42ee-bf83-84a9ba41839f",
   "metadata": {},
   "outputs": [],
   "source": [
    "# Import NumPy\n",
    "\n",
    "import numpy as np"
   ]
  },
  {
   "cell_type": "code",
   "execution_count": 2,
   "id": "01711c08-9605-4191-b5d2-1ed7ad4edca0",
   "metadata": {},
   "outputs": [
    {
     "name": "stdout",
     "output_type": "stream",
     "text": [
      "1.26.4\n"
     ]
    }
   ],
   "source": [
    "# Checking NumPy Version\n",
    "\n",
    "print(np.__version__)"
   ]
  },
  {
   "cell_type": "code",
   "execution_count": 6,
   "id": "2f3a0086-ea2f-42e2-a51a-ec2c4c864b94",
   "metadata": {},
   "outputs": [
    {
     "name": "stdout",
     "output_type": "stream",
     "text": [
      "[5 4 3 2 1]\n"
     ]
    }
   ],
   "source": [
    "# Creating a NumPy Array\n",
    "\n",
    "arr = np.array([5,4,3,2,1])\n",
    "print(arr)"
   ]
  },
  {
   "cell_type": "code",
   "execution_count": 5,
   "id": "4ba8b2e0-86e6-4d6c-a2ee-38f6b3e5e905",
   "metadata": {},
   "outputs": [
    {
     "name": "stdout",
     "output_type": "stream",
     "text": [
      "[5 4 3 2 1]\n",
      "<class 'numpy.ndarray'>\n"
     ]
    }
   ],
   "source": [
    "arr = np.array([5,4,3,2,1])\n",
    "\n",
    "print(arr)\n",
    "\n",
    "print(type(arr))"
   ]
  },
  {
   "cell_type": "code",
   "execution_count": 12,
   "id": "bdb4fc67-814b-4c2d-862c-4b2e64a3d1c2",
   "metadata": {},
   "outputs": [
    {
     "name": "stdout",
     "output_type": "stream",
     "text": [
      "list in python : [1, 2, 3]\n"
     ]
    }
   ],
   "source": [
    "list = [1,2,3]\n",
    "\n",
    "print (\"list in python :\", list)"
   ]
  },
  {
   "cell_type": "code",
   "execution_count": 67,
   "id": "7fea0f5d-9049-4df3-b7b7-931741ec1d5f",
   "metadata": {},
   "outputs": [
    {
     "name": "stdout",
     "output_type": "stream",
     "text": [
      "[1 2 3]\n",
      "<class 'numpy.ndarray'>\n"
     ]
    }
   ],
   "source": [
    "# Use a tuple to create a NumPy array\n",
    "\n",
    "arr = np.array((1, 2, 3))\n",
    "\n",
    "print(arr)\n",
    "\n",
    "print(type(arr))"
   ]
  },
  {
   "cell_type": "code",
   "execution_count": null,
   "id": "682040d4-5762-4da1-9e04-d82701fd54e3",
   "metadata": {},
   "outputs": [],
   "source": [
    "arr = np.array([5,4,3,2,1])\n",
    "\n",
    "print(arr)\n",
    "\n",
    "print(type(arr))"
   ]
  },
  {
   "cell_type": "code",
   "execution_count": 11,
   "id": "a4d2b3bf-c0e8-4930-98da-4158f99d55ad",
   "metadata": {},
   "outputs": [
    {
     "name": "stdout",
     "output_type": "stream",
     "text": [
      "[5 4 3 2 1]\n",
      "<class 'numpy.ndarray'>\n"
     ]
    }
   ],
   "source": [
    "# Use a tuple to create a NumPy array\n",
    "\n",
    "arr = np.array((5,4,3,2,1))\n",
    "\n",
    "print(arr)\n",
    "\n",
    "print(type(arr))"
   ]
  },
  {
   "cell_type": "markdown",
   "id": "b788c6ec-eb74-4341-a1f8-e19d911d63ea",
   "metadata": {},
   "source": [
    "**Dimensi**"
   ]
  },
  {
   "cell_type": "markdown",
   "id": "30720a8a-a84a-4733-af9c-5269312d3d12",
   "metadata": {},
   "source": [
    "Dimensi in Array"
   ]
  },
  {
   "cell_type": "markdown",
   "id": "5843237e-abba-4c55-9966-213a99af1f50",
   "metadata": {},
   "source": [
    "A dmension in arrays is one level of array depth (nested arrays)"
   ]
  },
  {
   "cell_type": "code",
   "execution_count": 11,
   "id": "39e5588d-ad15-482e-a476-d9985a9df567",
   "metadata": {},
   "outputs": [
    {
     "name": "stdout",
     "output_type": "stream",
     "text": [
      "42\n"
     ]
    }
   ],
   "source": [
    "# 0-D array\n",
    "\n",
    "arr = np.array(42)\n",
    "print(arr)"
   ]
  },
  {
   "cell_type": "code",
   "execution_count": 25,
   "id": "92d92b40-62c6-4017-a5f1-7da4d9eccb1c",
   "metadata": {},
   "outputs": [
    {
     "name": "stdout",
     "output_type": "stream",
     "text": [
      "[10 20 30]\n",
      "1\n"
     ]
    }
   ],
   "source": [
    "# Create a 1-D array containing one array\n",
    "\n",
    "a = np.array([10, 20, 30])\n",
    "print(a)\n",
    "print(a.ndim)"
   ]
  },
  {
   "cell_type": "code",
   "execution_count": 26,
   "id": "3ff163e9-7884-4ea2-ad04-c1ef9ab0524b",
   "metadata": {},
   "outputs": [
    {
     "name": "stdout",
     "output_type": "stream",
     "text": [
      "[[10 20 30]\n",
      " [40 50 60]\n",
      " [70 80 60]]\n",
      "2\n"
     ]
    }
   ],
   "source": [
    "# Create a 2-D array containing two array\n",
    "\n",
    "b = np.array([[10, 20, 30], [40, 50, 60], [70, 80, 60]])\n",
    "print(b)\n",
    "print(b.ndim)"
   ]
  },
  {
   "cell_type": "code",
   "execution_count": 27,
   "id": "6d4be1b0-2ad7-4862-abf1-eed1dd143f49",
   "metadata": {},
   "outputs": [
    {
     "name": "stdout",
     "output_type": "stream",
     "text": [
      "[[[ 10  20  30]\n",
      "  [ 40  50  60]]\n",
      "\n",
      " [[ 70  80  90]\n",
      "  [100 110 120]]]\n",
      "3\n"
     ]
    }
   ],
   "source": [
    "# Create a 3-D array containing two array, both containing two array\n",
    "\n",
    "c = np.array([[[10, 20, 30], [40, 50, 60]],[[70, 80, 90], [100, 110, 120]]])\n",
    "print(c)\n",
    "print(c.ndim)"
   ]
  },
  {
   "cell_type": "code",
   "execution_count": 24,
   "id": "7848c2f2-0209-4062-85ae-7e29b42c3720",
   "metadata": {},
   "outputs": [
    {
     "name": "stdout",
     "output_type": "stream",
     "text": [
      "0\n",
      "1\n",
      "2\n",
      "3\n"
     ]
    }
   ],
   "source": [
    "# Check how many dimensi the array have\n",
    "\n",
    "a = np.array(10)\n",
    "b = np.array([10, 20, 30])\n",
    "c = np.array([[10, 20, 30]])\n",
    "d = np.array([[[10, 20, 30]]])\n",
    "\n",
    "print(a.ndim)\n",
    "print(b.ndim)\n",
    "print(c.ndim)\n",
    "print(d.ndim)"
   ]
  },
  {
   "cell_type": "code",
   "execution_count": 39,
   "id": "53a5a67c-8981-44c9-a220-a93c46d97754",
   "metadata": {},
   "outputs": [
    {
     "name": "stdout",
     "output_type": "stream",
     "text": [
      "[[[[[[[1 2 3 4 5 6]]]]]]]\n",
      "jumlah dimensi : 7\n",
      "[[[[[[1 2 3 4 5 6]]]]]]\n"
     ]
    }
   ],
   "source": [
    "# Create on array with 7 dimensions and verify that it has 7 dimension\n",
    "\n",
    "arr_1 = np.array([1, 2, 3, 4, 5, 6], ndmin=7)\n",
    "\n",
    "print(arr_1)\n",
    "print('jumlah dimensi :', arr_1.ndim)\n",
    "print(arr_1[0])"
   ]
  },
  {
   "cell_type": "code",
   "execution_count": 34,
   "id": "2778323e-255c-4246-9ddc-e902ce21fd34",
   "metadata": {},
   "outputs": [
    {
     "name": "stdout",
     "output_type": "stream",
     "text": [
      "10\n"
     ]
    }
   ],
   "source": [
    "# Create the first element from the following array\n",
    "\n",
    "arr = np.array([10, 20, 30, 40])\n",
    "print(arr[0])"
   ]
  },
  {
   "cell_type": "code",
   "execution_count": 35,
   "id": "d8c867e5-b4fb-4045-8776-699dee14108c",
   "metadata": {},
   "outputs": [
    {
     "name": "stdout",
     "output_type": "stream",
     "text": [
      "20\n"
     ]
    }
   ],
   "source": [
    "# Get the second element from the following array\n",
    "\n",
    "arr = np.array([10, 20, 30, 40])\n",
    "print(arr[1])"
   ]
  },
  {
   "cell_type": "code",
   "execution_count": 36,
   "id": "f8bc6006-4186-482b-ad19-427cc52e98ec",
   "metadata": {},
   "outputs": [
    {
     "name": "stdout",
     "output_type": "stream",
     "text": [
      "70\n"
     ]
    }
   ],
   "source": [
    "# Get third and fourth element from the array and add them \n",
    "\n",
    "arr = np.array([10, 20, 30, 40])\n",
    "print(arr[2] + arr[3])"
   ]
  },
  {
   "cell_type": "code",
   "execution_count": 41,
   "id": "32812555-4014-45e3-9888-ab5e06938925",
   "metadata": {},
   "outputs": [
    {
     "name": "stdout",
     "output_type": "stream",
     "text": [
      "2nd element on 1st row : 20\n"
     ]
    }
   ],
   "source": [
    "# Access the element on the first row, second coumn\n",
    "\n",
    "arr = np.array([[10, 20, 30, 40, 50], [60, 70, 80, 90, 100]])\n",
    "print('2nd element on 1st row :', arr[0,1])"
   ]
  },
  {
   "cell_type": "code",
   "execution_count": 42,
   "id": "43dda043-b6ab-4fd1-8550-74d185967359",
   "metadata": {},
   "outputs": [
    {
     "name": "stdout",
     "output_type": "stream",
     "text": [
      "5th element on 2nd row : 100\n"
     ]
    }
   ],
   "source": [
    "# Access the element on the 2nd row, 5th column\n",
    "\n",
    "arr = np.array([[10, 20, 30, 40, 50],[60, 70, 80, 90, 100]])\n",
    "print('5th element on 2nd row :', arr[1, 4]) #[row, elemen]"
   ]
  },
  {
   "cell_type": "code",
   "execution_count": 43,
   "id": "5bebf4cb-cc87-4f65-b94d-5150f846ac4b",
   "metadata": {},
   "outputs": [
    {
     "name": "stdout",
     "output_type": "stream",
     "text": [
      "90\n"
     ]
    }
   ],
   "source": [
    "# Access the third element of the second array of the first array\n",
    "\n",
    "arr = np.array([[[10, 20, 30],[40, 50, 60]],[[70, 80, 90],[100, 110, 120]]])\n",
    "print(arr[1,0,2]) #[dim, row, element]"
   ]
  },
  {
   "cell_type": "markdown",
   "id": "377caf9e-c6cc-4fde-b850-0ac1ae4b83e3",
   "metadata": {},
   "source": [
    "## TASK"
   ]
  },
  {
   "cell_type": "markdown",
   "id": "35c32c9e-359d-402d-9700-1469ef8537b5",
   "metadata": {},
   "source": [
    "**Task 1**"
   ]
  },
  {
   "cell_type": "code",
   "execution_count": 3,
   "id": "565c7f00-3d1c-45de-8aa3-c9285659c6ec",
   "metadata": {},
   "outputs": [],
   "source": [
    "# checking Numpy Vrsion\n",
    "\n",
    "# print(np.__version__"
   ]
  },
  {
   "cell_type": "code",
   "execution_count": 5,
   "id": "d64fee16-f831-4c19-9aeb-23ddb95e4f33",
   "metadata": {},
   "outputs": [
    {
     "name": "stdout",
     "output_type": "stream",
     "text": [
      "List in Python : [10, 20, 30]\n"
     ]
    }
   ],
   "source": [
    "#Numpy form list\n",
    "\n",
    "list = [10, 20, 30]\n",
    "print(\"List in Python :\", list)"
   ]
  },
  {
   "cell_type": "code",
   "execution_count": 10,
   "id": "f0f816f3-3cce-4227-b7bb-e86cee57ba68",
   "metadata": {},
   "outputs": [],
   "source": [
    "# Numpy form Tuple\n",
    "\n",
    "# arr = np.aray((\"Aswina\", 10, 20, 30))\n",
    "# bprint(arr)\n",
    "# print(type(arr))"
   ]
  },
  {
   "cell_type": "markdown",
   "id": "d67911b6-0fea-413e-84b1-4fe15842b905",
   "metadata": {},
   "source": [
    "**Task 2**"
   ]
  },
  {
   "cell_type": "markdown",
   "id": "b213c984-8f0c-4141-ab19-b24781f8a20a",
   "metadata": {},
   "source": [
    "Create 3 different dimension and check the dimension"
   ]
  },
  {
   "cell_type": "code",
   "execution_count": 13,
   "id": "752d9b7b-069a-4b05-92db-c182208c0e22",
   "metadata": {},
   "outputs": [
    {
     "name": "stdout",
     "output_type": "stream",
     "text": [
      "[10 20 30]\n",
      "1\n"
     ]
    }
   ],
   "source": [
    "# Create 3 different dimension and check the dimension\n",
    "\n",
    "a = np.array([10, 20, 30])\n",
    "print(a)\n",
    "print(a.ndim)"
   ]
  },
  {
   "cell_type": "code",
   "execution_count": 65,
   "id": "95d5543c-7357-44bb-8254-6c69cf00c2fd",
   "metadata": {},
   "outputs": [
    {
     "name": "stdout",
     "output_type": "stream",
     "text": [
      "110\n"
     ]
    }
   ],
   "source": [
    "# Access the four element of the second array of the first array\n",
    "\n",
    "arr = np.array([[[10, 20, 30],[40, 50, 60]],[[70, 80, 90],[100, 110, 120]]])\n",
    "print(arr[1, 1, 1])"
   ]
  },
  {
   "cell_type": "code",
   "execution_count": 66,
   "id": "86fc52c1-7aef-4613-9419-9edb471850eb",
   "metadata": {},
   "outputs": [
    {
     "name": "stdout",
     "output_type": "stream",
     "text": [
      "['Aswinah' '1' '2' '3']\n",
      "<class 'numpy.ndarray'>\n"
     ]
    }
   ],
   "source": [
    "# Use a tuple to create a NumPy array\n",
    "\n",
    "arr = np.array((\"Aswinah\", 1, 2, 3))\n",
    "\n",
    "print(arr)\n",
    "\n",
    "print(type(arr))"
   ]
  },
  {
   "cell_type": "code",
   "execution_count": null,
   "id": "2e498c3e-d006-4968-8b99-78c6bb321f56",
   "metadata": {},
   "outputs": [],
   "source": []
  }
 ],
 "metadata": {
  "kernelspec": {
   "display_name": "Python 3 (ipykernel)",
   "language": "python",
   "name": "python3"
  },
  "language_info": {
   "codemirror_mode": {
    "name": "ipython",
    "version": 3
   },
   "file_extension": ".py",
   "mimetype": "text/x-python",
   "name": "python",
   "nbconvert_exporter": "python",
   "pygments_lexer": "ipython3",
   "version": "3.11.7"
  }
 },
 "nbformat": 4,
 "nbformat_minor": 5
}
