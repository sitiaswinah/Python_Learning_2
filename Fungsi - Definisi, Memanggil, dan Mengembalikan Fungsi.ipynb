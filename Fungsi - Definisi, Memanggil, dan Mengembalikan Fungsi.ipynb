{
 "cells": [
  {
   "cell_type": "markdown",
   "id": "da6a8edc-5bdd-4b95-be4e-12f1f8a58094",
   "metadata": {},
   "source": [
    "## **Fungsi**"
   ]
  },
  {
   "cell_type": "markdown",
   "id": "0c33423a-e48b-4db8-8fa3-5b342eda7a35",
   "metadata": {},
   "source": [
    "- Di matematika, \"fungsi\" adalah yang menjelaskan anatara sebuah masukan (input) dan keluaran (output)\n",
    "- Pada python, selain fungsi relasi tersebut, fungsi juga adalah salah satu cara untuk mengorganisasikan kode - dengan tujuan akhir kode dapat di gunakan kembali (reusability)\n",
    "- Sebaiknya fungsi hanya memiliki satu kegunaan spesifik dapat di gunakan kembali\n",
    "- Fungsi-fungsi umum telah disediakan oleh python\n",
    "- Namun kita dapat selalu mendefinisikan fungsi kita sendiri"
   ]
  },
  {
   "cell_type": "markdown",
   "id": "6e6bab7c-d7ea-4426-a64a-8ca308511d8b",
   "metadata": {},
   "source": [
    "**Mendefinisikan Fungsi**"
   ]
  },
  {
   "cell_type": "markdown",
   "id": "e0ac2440-15a6-4ad2-8719-a09b1abd394d",
   "metadata": {},
   "source": [
    "- Fungsi didefinisikan dengan keyword def diikuti dengan nama fungsi dan parameter nya dalam kurung ()\n",
    "- Secara opsional, Anda dapat menambahkan dostring - string dokumentai yang menjelaskan konteks fungsi\n",
    "- Blok kode dalam setiap fungsi dimulai dengan titik dua dan menggunkaan indentasi\n",
    "- Fungsi berhenti ketika terdapat statement return [expression] yang mengembalikan [expression] kepada pemanggilnya\n",
    "- Anda juga bisa membuat fungsi tidak mengembalikan keluaran dengan return None"
   ]
  },
  {
   "cell_type": "code",
   "execution_count": 1,
   "id": "2e87ba70-06f1-414f-9c88-12bceb409377",
   "metadata": {},
   "outputs": [],
   "source": [
    "def pangkat(x):\n",
    "    kuadrat = x**2 #fungsi pangkat 2\n",
    "    return kuadrat"
   ]
  },
  {
   "cell_type": "code",
   "execution_count": 2,
   "id": "86a3af6f-228f-4e96-b067-6e9b7fb32d8f",
   "metadata": {},
   "outputs": [
    {
     "data": {
      "text/plain": [
       "36"
      ]
     },
     "execution_count": 2,
     "metadata": {},
     "output_type": "execute_result"
    }
   ],
   "source": [
    "pangkat(6)"
   ]
  },
  {
   "cell_type": "code",
   "execution_count": 3,
   "id": "966d864f-7ebc-4ba0-9d67-cdd64f4aac95",
   "metadata": {},
   "outputs": [
    {
     "data": {
      "text/plain": [
       "4"
      ]
     },
     "execution_count": 3,
     "metadata": {},
     "output_type": "execute_result"
    }
   ],
   "source": [
    "pangkat(2)"
   ]
  },
  {
   "cell_type": "code",
   "execution_count": 5,
   "id": "a08c9098-f71b-4f5d-b4d1-4509e2e7abee",
   "metadata": {},
   "outputs": [],
   "source": [
    "def pangkat_tiga(x):\n",
    "    kubik = x**3 #fungsi pangkat tiga\n",
    "    print(kubik)"
   ]
  },
  {
   "cell_type": "code",
   "execution_count": 6,
   "id": "be58bdb5-e3d6-4d28-9a08-053b5eacd2df",
   "metadata": {},
   "outputs": [
    {
     "name": "stdout",
     "output_type": "stream",
     "text": [
      "8\n"
     ]
    }
   ],
   "source": [
    "pangkat_tiga(2)"
   ]
  },
  {
   "cell_type": "markdown",
   "id": "c738c971-bb69-47c7-90b1-456475a9657d",
   "metadata": {},
   "source": [
    "Secara default Python akna memposisikan setiap parameter sesuai dengan urutan pendaftaran pada saat di definisikan, dan harus memanggil sesuai dengan urutan tersebut"
   ]
  },
  {
   "cell_type": "code",
   "execution_count": 8,
   "id": "d4159c5c-427e-4396-a8d5-5c425fc5b20d",
   "metadata": {},
   "outputs": [],
   "source": [
    "def pangkat_lima(x):\n",
    "    kubik = x**5 #fungsi pangkat tiga\n",
    "    print(kubik)"
   ]
  },
  {
   "cell_type": "code",
   "execution_count": 9,
   "id": "8fe115f4-863f-4ccf-b48a-7be8077adbba",
   "metadata": {},
   "outputs": [
    {
     "name": "stdout",
     "output_type": "stream",
     "text": [
      "32\n"
     ]
    }
   ],
   "source": [
    "pangkat_lima(2)"
   ]
  },
  {
   "cell_type": "markdown",
   "id": "8a8b5c6e-0797-48f4-af01-1e1ffd2a7bbe",
   "metadata": {},
   "source": [
    "## **Return**"
   ]
  },
  {
   "cell_type": "markdown",
   "id": "cd637f58-dc6a-4784-904f-a1f835b0db56",
   "metadata": {},
   "source": [
    "**Pernyataan return [expression] akan membuat eksekusi program keluar dari fungsi saat itu, sekaligus mengembalikan nilai tertentu**"
   ]
  },
  {
   "cell_type": "markdown",
   "id": "6bfeed38-66a4-4083-bfc4-2991c8678fb7",
   "metadata": {},
   "source": [
    "String"
   ]
  },
  {
   "cell_type": "code",
   "execution_count": 29,
   "id": "ebaf90ec-ca24-4752-80bd-dc160520e875",
   "metadata": {},
   "outputs": [],
   "source": [
    "def nama(z):\n",
    "    hai = \"Perkenalkan nama saya {}\".format(z)\n",
    "    return hai"
   ]
  },
  {
   "cell_type": "code",
   "execution_count": 31,
   "id": "320ab680-0feb-47e4-9549-601301cbc3b2",
   "metadata": {},
   "outputs": [
    {
     "data": {
      "text/plain": [
       "'Perkenalkan nama saya Siti Aswinah'"
      ]
     },
     "execution_count": 31,
     "metadata": {},
     "output_type": "execute_result"
    }
   ],
   "source": [
    "nama(\"Siti Aswinah\")"
   ]
  },
  {
   "cell_type": "markdown",
   "id": "bdb8593f-913e-4d9e-bd3c-69ec62a8f5c2",
   "metadata": {},
   "source": [
    "Formula (angka)"
   ]
  },
  {
   "cell_type": "code",
   "execution_count": 18,
   "id": "829f8b6a-8a58-4227-beb5-b1f8df6fc517",
   "metadata": {},
   "outputs": [],
   "source": [
    "def bagi(a,b):\n",
    "    bagi = a / b #fungsi pembagian\n",
    "    print(\"Hasil pembagian adalah {}\".format(bagi))\n",
    "    return bagi"
   ]
  },
  {
   "cell_type": "code",
   "execution_count": 19,
   "id": "2f034985-820a-4b63-ba69-76acb6708ecf",
   "metadata": {},
   "outputs": [
    {
     "name": "stdout",
     "output_type": "stream",
     "text": [
      "Hasil pembagian adalah 5.0\n"
     ]
    },
    {
     "data": {
      "text/plain": [
       "5.0"
      ]
     },
     "execution_count": 19,
     "metadata": {},
     "output_type": "execute_result"
    }
   ],
   "source": [
    "bagi(10,2)"
   ]
  },
  {
   "cell_type": "code",
   "execution_count": 22,
   "id": "3efd0d42-baaf-4e51-bac2-a87ec36c9161",
   "metadata": {},
   "outputs": [
    {
     "name": "stdout",
     "output_type": "stream",
     "text": [
      "Hasil pembagian adalah 50.0\n",
      "Hasil dari return adalah 50.0\n"
     ]
    }
   ],
   "source": [
    "output = bagi(100,2)\n",
    "print(\"Hasil dari return adalah {}\".format(output))"
   ]
  },
  {
   "cell_type": "markdown",
   "id": "f206ba96-7089-4418-a16c-41a7ddda8aa5",
   "metadata": {},
   "source": [
    "- Nilai kembalian dari sebuah fungsi dapat di simpan dalam sebuah variabel\n",
    "- Ini yang akan membedakan sebuah fungsi yang mengembalikan nilai dengan sebuah fungsi yang tidak mengembalikan nilai (sering disebut sebagai prosedur)"
   ]
  },
  {
   "cell_type": "code",
   "execution_count": 38,
   "id": "0b877779-4349-4b8e-a246-396e52082783",
   "metadata": {},
   "outputs": [],
   "source": [
    "def operasi_hitung(y,z):\n",
    "    tambah = y + z\n",
    "    kurang = y - z\n",
    "    kali = y * z\n",
    "    bagi = y / z\n",
    "    pangkat = y ** z\n",
    "    return tambah"
   ]
  },
  {
   "cell_type": "code",
   "execution_count": null,
   "id": "bbb6e642-303e-4f87-ae2c-84a780e94645",
   "metadata": {},
   "outputs": [],
   "source": []
  },
  {
   "cell_type": "code",
   "execution_count": 35,
   "id": "ad653096-ea0c-41b6-b869-1721e0f930a1",
   "metadata": {},
   "outputs": [],
   "source": [
    "def pangkat(z):\n",
    "    kuadrat = z**2 #fungsi pangkat 2\n",
    "    return kuadrat"
   ]
  },
  {
   "cell_type": "code",
   "execution_count": 37,
   "id": "963414e6-38b4-4736-bff6-d9642e5350e5",
   "metadata": {},
   "outputs": [
    {
     "data": {
      "text/plain": [
       "25"
      ]
     },
     "execution_count": 37,
     "metadata": {},
     "output_type": "execute_result"
    }
   ],
   "source": [
    "pangkat(5)"
   ]
  },
  {
   "cell_type": "code",
   "execution_count": 42,
   "id": "08db565b-f0d5-4d24-80c7-8ce9812eefde",
   "metadata": {},
   "outputs": [
    {
     "name": "stdin",
     "output_type": "stream",
     "text": [
      " 6\n"
     ]
    },
    {
     "name": "stdout",
     "output_type": "stream",
     "text": [
      "Hasilnya adalah 36\n"
     ]
    }
   ],
   "source": [
    "angka = int(input().strip())\n",
    "hasil = pangkat(angka)\n",
    "print(\"Hasilnya adalah {}\".format(hasil))"
   ]
  },
  {
   "cell_type": "code",
   "execution_count": 43,
   "id": "ee194107-4c2c-4202-ba38-0afb555342ff",
   "metadata": {},
   "outputs": [
    {
     "name": "stdout",
     "output_type": "stream",
     "text": [
      "Hasil kuadrat dari 6 adalah 36\n"
     ]
    }
   ],
   "source": [
    "print(\"Hasil kuadrat dari {} adalah {}\".format(angka, hasil))"
   ]
  },
  {
   "cell_type": "markdown",
   "id": "1d7af93b-146b-4a89-9d8b-0c93f35aec48",
   "metadata": {},
   "source": [
    "Pass by refernce vs value"
   ]
  },
  {
   "cell_type": "markdown",
   "id": "14b54fd4-1588-4b8e-9ce1-eb0bfa002374",
   "metadata": {},
   "source": [
    "- Seluruh paramater (argumen) pada bahasa Python bersifat \"passed by reference\". Artinya saat kita mengubah sebuah variable, maka data yang mereferensi padanya juga akan merubah, baik di dalam fungsi maupun di luar fungsi pemanggil\n",
    "- kecual jika kita melakukan operasi assignment yang akan mengubah reference parameter"
   ]
  },
  {
   "cell_type": "code",
   "execution_count": 49,
   "id": "aee9a2fd-7e2c-4991-9ace-f64807febb6e",
   "metadata": {},
   "outputs": [],
   "source": [
    "def ubah(daftar_list):\n",
    "    daftar_list.append([5,6])\n",
    "    print(\"Nilai dalam fungsi adalah {}\".format(daftar_list))"
   ]
  },
  {
   "cell_type": "code",
   "execution_count": 50,
   "id": "4a19005b-a704-45af-8022-c3c82cf4014c",
   "metadata": {},
   "outputs": [
    {
     "name": "stdout",
     "output_type": "stream",
     "text": [
      "Nilai dalam fungsi adalah [15, [5, 6]]\n"
     ]
    }
   ],
   "source": [
    "ubah([15])"
   ]
  },
  {
   "cell_type": "code",
   "execution_count": 51,
   "id": "bab63e78-2851-46ab-9b51-e1258a22aa10",
   "metadata": {},
   "outputs": [
    {
     "name": "stdout",
     "output_type": "stream",
     "text": [
      "Nilai dalam fungsi adalah [25, [5, 6]]\n"
     ]
    }
   ],
   "source": [
    "ubah([25])"
   ]
  },
  {
   "cell_type": "code",
   "execution_count": 52,
   "id": "8fc98791-10f2-4cde-9a78-8b52c583d5eb",
   "metadata": {},
   "outputs": [
    {
     "name": "stdout",
     "output_type": "stream",
     "text": [
      "Nilai dalam fungsi adalah [12, [5, 6]]\n",
      "Nilai diluar fungsi adalah [12, [5, 6]]\n"
     ]
    }
   ],
   "source": [
    "daftar_list = [12]\n",
    "ubah(daftar_list)\n",
    "print(\"Nilai diluar fungsi adalah {}\".format(daftar_list))"
   ]
  },
  {
   "cell_type": "markdown",
   "id": "3ed7fd23-379b-48ef-a9a4-f7a2fa3e3afe",
   "metadata": {},
   "source": [
    "Namun kita harus berhati-hati karna assigment variabel bernama sama"
   ]
  },
  {
   "cell_type": "markdown",
   "id": "e9601ff6-45f0-43bd-aa79-53a743337346",
   "metadata": {},
   "source": [
    "## TASK"
   ]
  },
  {
   "cell_type": "markdown",
   "id": "cd8a85e9-a1f4-45f2-9197-e10f6af843b9",
   "metadata": {},
   "source": [
    "**Task 1 Contoh 1 fungsi**"
   ]
  },
  {
   "cell_type": "code",
   "execution_count": 53,
   "id": "e41ebbe2-90d3-45c8-b6c1-76eb0a7489e6",
   "metadata": {},
   "outputs": [],
   "source": [
    "def luas_segitiga (alas, tinggi):\n",
    "    luas = 0.5 * alas * tinggi\n",
    "    return luas"
   ]
  },
  {
   "cell_type": "code",
   "execution_count": 54,
   "id": "c56becdf-b398-4976-b7bd-35b799eea593",
   "metadata": {},
   "outputs": [],
   "source": [
    "alas = 5\n",
    "tinggi = 7"
   ]
  },
  {
   "cell_type": "code",
   "execution_count": 55,
   "id": "13e9005d-20a4-4dfa-a1e8-00cff525dc77",
   "metadata": {},
   "outputs": [
    {
     "name": "stdout",
     "output_type": "stream",
     "text": [
      "Luas segitiga : 17.5\n"
     ]
    }
   ],
   "source": [
    "print(\"Luas segitiga :\", luas_segitiga(alas, tinggi))"
   ]
  },
  {
   "cell_type": "markdown",
   "id": "911f03a5-21a2-4de4-ad52-6306a8fecb78",
   "metadata": {},
   "source": [
    "**Task 2 Contoh beberapa fungsi**"
   ]
  },
  {
   "cell_type": "code",
   "execution_count": 26,
   "id": "d3d81135-1365-4cbc-a288-cc0980958840",
   "metadata": {},
   "outputs": [],
   "source": [
    "def segitiga (a, b, c): #(a = alas), (b = tinggi), (c = sisi miring)\n",
    "    luas = 0.5 * a * b\n",
    "    keliling = a + b + c\n",
    "    return keliling"
   ]
  },
  {
   "cell_type": "code",
   "execution_count": 27,
   "id": "14c7611b-97e0-4a98-b858-aab1513e0c9d",
   "metadata": {},
   "outputs": [],
   "source": [
    "a = 5\n",
    "b = 7\n",
    "c = 11"
   ]
  },
  {
   "cell_type": "code",
   "execution_count": 28,
   "id": "575f5369-c5ef-48b6-a4a7-66767cefd532",
   "metadata": {},
   "outputs": [
    {
     "name": "stdout",
     "output_type": "stream",
     "text": [
      "keliling : 23\n"
     ]
    }
   ],
   "source": [
    "print(\"keliling :\", segitiga (a, b, c))"
   ]
  },
  {
   "cell_type": "markdown",
   "id": "b52e6fd2-bb6b-4ebf-a904-a931332010bc",
   "metadata": {},
   "source": [
    "**Task 3 membuat fungsi dengan kombinasi (input () dan dot format)**\n"
   ]
  },
  {
   "cell_type": "code",
   "execution_count": 2,
   "id": "13e41104-33fd-4730-b140-123a8e35052f",
   "metadata": {},
   "outputs": [],
   "source": [
    "def pangkat_lima(x):\n",
    "    kuintik = x**5  #fungsi pangkat lima\n",
    "    return kuintik"
   ]
  },
  {
   "cell_type": "code",
   "execution_count": 4,
   "id": "1063943d-4ca0-494a-9114-ba9c03172393",
   "metadata": {},
   "outputs": [
    {
     "name": "stdin",
     "output_type": "stream",
     "text": [
      " 5\n"
     ]
    },
    {
     "name": "stdout",
     "output_type": "stream",
     "text": [
      "hasilnya adalah 3125\n"
     ]
    }
   ],
   "source": [
    "angka = int(input().strip())\n",
    "hasil = pangkat_lima(angka)\n",
    "print(\"hasilnya adalah {}\".format(hasil))"
   ]
  },
  {
   "cell_type": "markdown",
   "id": "25e22fcb-63c8-4093-bc90-2f3d83a4a3f5",
   "metadata": {},
   "source": [
    "**Task 4 membuat fungsi (parameter diubah dan parameter di-assign)**"
   ]
  },
  {
   "cell_type": "code",
   "execution_count": 6,
   "id": "3bfcf5f4-7c34-47d3-a404-5b7689b7e325",
   "metadata": {},
   "outputs": [],
   "source": [
    "def rubah (daftar_nilai):\n",
    "    daftar_nilai.append([80, 90])\n",
    "    print(\"Daftar nilainya adalah {}\".format(daftar_nilai))"
   ]
  },
  {
   "cell_type": "code",
   "execution_count": 7,
   "id": "b8ca1b14-f582-4c31-8cda-5486cfe61c7f",
   "metadata": {},
   "outputs": [
    {
     "name": "stdout",
     "output_type": "stream",
     "text": [
      "Daftar nilainya adalah [70, [80, 90]]\n"
     ]
    }
   ],
   "source": [
    "rubah([70])"
   ]
  },
  {
   "cell_type": "code",
   "execution_count": 8,
   "id": "d48e89a9-71c0-4be2-8d55-6659349102e0",
   "metadata": {},
   "outputs": [
    {
     "name": "stdout",
     "output_type": "stream",
     "text": [
      "Daftar nilainya adalah [75, [80, 90]]\n"
     ]
    }
   ],
   "source": [
    "rubah([75])"
   ]
  },
  {
   "cell_type": "code",
   "execution_count": 10,
   "id": "e18e63a4-7bfc-4209-921d-0ebc1b2c449a",
   "metadata": {},
   "outputs": [
    {
     "name": "stdout",
     "output_type": "stream",
     "text": [
      "Daftar nilainya adalah [75, [80, 90]]\n",
      "Daftar nilainya adalah [75, [80, 90]]\n"
     ]
    }
   ],
   "source": [
    "daftar_nilai = [75]\n",
    "rubah (daftar_nilai)\n",
    "print(\"Daftar nilainya adalah {}\".format(daftar_nilai))"
   ]
  }
 ],
 "metadata": {
  "kernelspec": {
   "display_name": "Python 3 (ipykernel)",
   "language": "python",
   "name": "python3"
  },
  "language_info": {
   "codemirror_mode": {
    "name": "ipython",
    "version": 3
   },
   "file_extension": ".py",
   "mimetype": "text/x-python",
   "name": "python",
   "nbconvert_exporter": "python",
   "pygments_lexer": "ipython3",
   "version": "3.11.7"
  }
 },
 "nbformat": 4,
 "nbformat_minor": 5
}
