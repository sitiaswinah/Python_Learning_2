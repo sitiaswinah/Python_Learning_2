{
 "cells": [
  {
   "cell_type": "markdown",
   "id": "5f946281-0dfb-447f-a9c0-7798d3bc718e",
   "metadata": {},
   "source": [
    "import library-library yang di perlukan"
   ]
  },
  {
   "cell_type": "code",
   "execution_count": 5,
   "id": "6d109940-f19a-4af9-bc12-ec648e4d3f17",
   "metadata": {},
   "outputs": [],
   "source": [
    "import pandas as pd\n",
    "import numpy as np"
   ]
  },
  {
   "cell_type": "markdown",
   "id": "548d77d3-ab05-4f78-90f9-d0faa124a27b",
   "metadata": {},
   "source": [
    "pandas mempunyai dua objektif yaitu Series dan Data Frame"
   ]
  },
  {
   "cell_type": "markdown",
   "id": "053ed1e0-4171-48d7-97f8-aed62aaeb027",
   "metadata": {},
   "source": [
    "## Object Series"
   ]
  },
  {
   "cell_type": "markdown",
   "id": "302315d3-319b-4576-b060-55ef3fdaf810",
   "metadata": {},
   "source": [
    "Oject Series mempunyai satu dimensi data. Tidak mempunyai nama column karena hanya memiliki satu column saja dan mempunyai index"
   ]
  },
  {
   "cell_type": "code",
   "execution_count": 3,
   "id": "4b5cc016-ecb4-4fe1-b3b2-dae99b350887",
   "metadata": {},
   "outputs": [],
   "source": [
    "data = [0, 1, 2, 3, 4]"
   ]
  },
  {
   "cell_type": "code",
   "execution_count": 4,
   "id": "a25e4ac1-2db0-4b3c-a8ad-dd96829cd009",
   "metadata": {},
   "outputs": [
    {
     "name": "stdout",
     "output_type": "stream",
     "text": [
      "[0, 1, 2, 3, 4]\n"
     ]
    }
   ],
   "source": [
    "print(data)"
   ]
  },
  {
   "cell_type": "markdown",
   "id": "2907cb04-347e-4619-bdc7-bc73b3e293b3",
   "metadata": {},
   "source": [
    "mengubah data ke dalam bentuk Series"
   ]
  },
  {
   "cell_type": "code",
   "execution_count": 5,
   "id": "6741b226-3e0a-4afe-bd46-7fb7aa5a8786",
   "metadata": {},
   "outputs": [
    {
     "data": {
      "text/plain": [
       "0    0\n",
       "1    1\n",
       "2    2\n",
       "3    3\n",
       "4    4\n",
       "dtype: int64"
      ]
     },
     "execution_count": 5,
     "metadata": {},
     "output_type": "execute_result"
    }
   ],
   "source": [
    "data = pd.Series(data)\n",
    "\n",
    "data"
   ]
  },
  {
   "cell_type": "markdown",
   "id": "e6bd76ad-c2bd-461d-a86b-c2ecc0193530",
   "metadata": {},
   "source": [
    "Convert dari series menjadi array"
   ]
  },
  {
   "cell_type": "code",
   "execution_count": 6,
   "id": "14e48904-9ed3-4b6b-909e-e72e3a8a84bc",
   "metadata": {},
   "outputs": [
    {
     "data": {
      "text/plain": [
       "array([0, 1, 2, 3, 4], dtype=int64)"
      ]
     },
     "execution_count": 6,
     "metadata": {},
     "output_type": "execute_result"
    }
   ],
   "source": [
    "data.values"
   ]
  },
  {
   "cell_type": "code",
   "execution_count": null,
   "id": "a8285ed5-0f33-40b6-8545-2f330b7cad05",
   "metadata": {},
   "outputs": [],
   "source": [
    "array([0.25, 0.5, 0.75, 1.])"
   ]
  },
  {
   "cell_type": "markdown",
   "id": "b68de0aa-fe9b-45d9-9aad-80ebcf390fa4",
   "metadata": {},
   "source": [
    "**menampilkan indeks**"
   ]
  },
  {
   "cell_type": "markdown",
   "id": "3909c282-8d25-4915-9b50-9d57ace92b77",
   "metadata": {},
   "source": [
    "index berupa range dimana titik start nya itu inklusif dalam range dari titk stop nya itu ekslusif dari range"
   ]
  },
  {
   "cell_type": "code",
   "execution_count": 8,
   "id": "5030963a-d742-4992-a02a-ac51dba4b515",
   "metadata": {},
   "outputs": [
    {
     "data": {
      "text/plain": [
       "RangeIndex(start=0, stop=5, step=1)"
      ]
     },
     "execution_count": 8,
     "metadata": {},
     "output_type": "execute_result"
    }
   ],
   "source": [
    "data.index"
   ]
  },
  {
   "cell_type": "code",
   "execution_count": 10,
   "id": "01b3ca3a-c392-4e44-838f-f3ff214891d2",
   "metadata": {},
   "outputs": [
    {
     "data": {
      "text/plain": [
       "[1, 2, 3, 4, 5, 6, 7, 8, 9]"
      ]
     },
     "execution_count": 10,
     "metadata": {},
     "output_type": "execute_result"
    }
   ],
   "source": [
    "list(range(1,10))"
   ]
  },
  {
   "cell_type": "markdown",
   "id": "f9670b61-d7f7-44e3-8569-87957fbc82c3",
   "metadata": {},
   "source": [
    "cara memanggil data"
   ]
  },
  {
   "cell_type": "code",
   "execution_count": 11,
   "id": "ac8852a1-2a59-4658-bdec-f0bd25b569e2",
   "metadata": {},
   "outputs": [
    {
     "data": {
      "text/plain": [
       "2"
      ]
     },
     "execution_count": 11,
     "metadata": {},
     "output_type": "execute_result"
    }
   ],
   "source": [
    "data[2]"
   ]
  },
  {
   "cell_type": "markdown",
   "id": "c6a30d27-7054-4617-b026-5057e8cf78d1",
   "metadata": {},
   "source": [
    "index implisit adalah index default nya\n",
    "\n",
    "kita bisa mendefinisikan index nya, ini di sebut index eksplisit yaitu index yang di defined\n",
    "\n",
    "ketika mendefinisikan index, jumlah index harus sama dengan jumlah data nya"
   ]
  },
  {
   "cell_type": "code",
   "execution_count": 12,
   "id": "f0f18aa2-1b11-44ea-b050-6fe61edf2bef",
   "metadata": {},
   "outputs": [],
   "source": [
    "data = pd.Series([0.25, 0.50, 0.75, 1], index =['a','b','c','d'])"
   ]
  },
  {
   "cell_type": "code",
   "execution_count": 13,
   "id": "51df1202-1207-4d64-acc2-a8c369666d03",
   "metadata": {},
   "outputs": [
    {
     "data": {
      "text/plain": [
       "a    0.25\n",
       "b    0.50\n",
       "c    0.75\n",
       "d    1.00\n",
       "dtype: float64"
      ]
     },
     "execution_count": 13,
     "metadata": {},
     "output_type": "execute_result"
    }
   ],
   "source": [
    "data"
   ]
  },
  {
   "cell_type": "code",
   "execution_count": 14,
   "id": "3e25bf36-6f93-4799-b429-055d35bba6b7",
   "metadata": {},
   "outputs": [
    {
     "data": {
      "text/plain": [
       "array([0.25, 0.5 , 0.75, 1.  ])"
      ]
     },
     "execution_count": 14,
     "metadata": {},
     "output_type": "execute_result"
    }
   ],
   "source": [
    "data.values"
   ]
  },
  {
   "cell_type": "code",
   "execution_count": 13,
   "id": "085f4c17-e804-430c-b0fc-a9b786d5a8fd",
   "metadata": {},
   "outputs": [
    {
     "data": {
      "text/plain": [
       "Index(['a', 'b', 'c', 'd'], dtype='object')"
      ]
     },
     "execution_count": 13,
     "metadata": {},
     "output_type": "execute_result"
    }
   ],
   "source": [
    "data.index"
   ]
  },
  {
   "cell_type": "markdown",
   "id": "62038650-b59f-410e-be41-43aabf073d03",
   "metadata": {},
   "source": [
    "panggil data nya"
   ]
  },
  {
   "cell_type": "code",
   "execution_count": 14,
   "id": "1b669a6d-af77-4210-bafb-dc2351a2451e",
   "metadata": {},
   "outputs": [
    {
     "data": {
      "text/plain": [
       "0.25"
      ]
     },
     "execution_count": 14,
     "metadata": {},
     "output_type": "execute_result"
    }
   ],
   "source": [
    "# index eksplisit\n",
    "\n",
    "data['a']"
   ]
  },
  {
   "cell_type": "markdown",
   "id": "a22bf998-0171-4ca5-8e26-9868ba2a1284",
   "metadata": {},
   "source": [
    "**ini adalah data selection**"
   ]
  },
  {
   "cell_type": "markdown",
   "id": "8fef5349-430d-4bfb-9dc1-ae6d24eb28e9",
   "metadata": {},
   "source": [
    "walaupun kita sudah membuat indeks eksplisit, kita masih bisa memanggil indeks implisit nya"
   ]
  },
  {
   "cell_type": "code",
   "execution_count": 15,
   "id": "5fe26cc5-17b1-4e28-886a-d99871df57e9",
   "metadata": {},
   "outputs": [
    {
     "name": "stderr",
     "output_type": "stream",
     "text": [
      "C:\\Users\\Win 10\\AppData\\Local\\Temp\\ipykernel_8160\\2136116981.py:3: FutureWarning: Series.__getitem__ treating keys as positions is deprecated. In a future version, integer keys will always be treated as labels (consistent with DataFrame behavior). To access a value by position, use `ser.iloc[pos]`\n",
      "  data[3]\n"
     ]
    },
    {
     "data": {
      "text/plain": [
       "1.0"
      ]
     },
     "execution_count": 15,
     "metadata": {},
     "output_type": "execute_result"
    }
   ],
   "source": [
    "# index implisit\n",
    "\n",
    "data[3]"
   ]
  },
  {
   "cell_type": "markdown",
   "id": "e7d2d8b4-bc10-4e8b-930a-a43a92178858",
   "metadata": {},
   "source": [
    "ketika indeks implisit dan indeks ekspliist nya ada yang sama,, ketika kita memanggil data nya, maka dia hanya akan mengandalkan indeks ekplisit nya"
   ]
  },
  {
   "cell_type": "code",
   "execution_count": 18,
   "id": "70ab70f1-4556-49ec-8d1c-b0e331036ef2",
   "metadata": {},
   "outputs": [],
   "source": [
    "data_2 = pd.Series([0.25, 0.50, 0.75, 1], index=[2,3,5,7])"
   ]
  },
  {
   "cell_type": "code",
   "execution_count": 21,
   "id": "566c3be4-8609-4fc3-9a79-d145bb133f7d",
   "metadata": {},
   "outputs": [
    {
     "data": {
      "text/plain": [
       "0.25"
      ]
     },
     "execution_count": 21,
     "metadata": {},
     "output_type": "execute_result"
    }
   ],
   "source": [
    "# indeks ekplisit\n",
    "\n",
    "data_2[2]"
   ]
  },
  {
   "cell_type": "code",
   "execution_count": 22,
   "id": "fffe7992-0b45-466c-bf13-83c59be9fceb",
   "metadata": {},
   "outputs": [
    {
     "ename": "KeyError",
     "evalue": "0",
     "output_type": "error",
     "traceback": [
      "\u001b[1;31m---------------------------------------------------------------------------\u001b[0m",
      "\u001b[1;31mKeyError\u001b[0m                                  Traceback (most recent call last)",
      "File \u001b[1;32mC:\\ProgramData\\anaconda3\\Lib\\site-packages\\pandas\\core\\indexes\\base.py:3791\u001b[0m, in \u001b[0;36mIndex.get_loc\u001b[1;34m(self, key)\u001b[0m\n\u001b[0;32m   3790\u001b[0m \u001b[38;5;28;01mtry\u001b[39;00m:\n\u001b[1;32m-> 3791\u001b[0m     \u001b[38;5;28;01mreturn\u001b[39;00m \u001b[38;5;28mself\u001b[39m\u001b[38;5;241m.\u001b[39m_engine\u001b[38;5;241m.\u001b[39mget_loc(casted_key)\n\u001b[0;32m   3792\u001b[0m \u001b[38;5;28;01mexcept\u001b[39;00m \u001b[38;5;167;01mKeyError\u001b[39;00m \u001b[38;5;28;01mas\u001b[39;00m err:\n",
      "File \u001b[1;32mindex.pyx:152\u001b[0m, in \u001b[0;36mpandas._libs.index.IndexEngine.get_loc\u001b[1;34m()\u001b[0m\n",
      "File \u001b[1;32mindex.pyx:181\u001b[0m, in \u001b[0;36mpandas._libs.index.IndexEngine.get_loc\u001b[1;34m()\u001b[0m\n",
      "File \u001b[1;32mpandas\\_libs\\hashtable_class_helper.pxi:2606\u001b[0m, in \u001b[0;36mpandas._libs.hashtable.Int64HashTable.get_item\u001b[1;34m()\u001b[0m\n",
      "File \u001b[1;32mpandas\\_libs\\hashtable_class_helper.pxi:2630\u001b[0m, in \u001b[0;36mpandas._libs.hashtable.Int64HashTable.get_item\u001b[1;34m()\u001b[0m\n",
      "\u001b[1;31mKeyError\u001b[0m: 0",
      "\nThe above exception was the direct cause of the following exception:\n",
      "\u001b[1;31mKeyError\u001b[0m                                  Traceback (most recent call last)",
      "Cell \u001b[1;32mIn[22], line 3\u001b[0m\n\u001b[0;32m      1\u001b[0m \u001b[38;5;66;03m# indeks impliit\u001b[39;00m\n\u001b[1;32m----> 3\u001b[0m data_2[\u001b[38;5;241m0\u001b[39m]\n",
      "File \u001b[1;32mC:\\ProgramData\\anaconda3\\Lib\\site-packages\\pandas\\core\\series.py:1040\u001b[0m, in \u001b[0;36mSeries.__getitem__\u001b[1;34m(self, key)\u001b[0m\n\u001b[0;32m   1037\u001b[0m     \u001b[38;5;28;01mreturn\u001b[39;00m \u001b[38;5;28mself\u001b[39m\u001b[38;5;241m.\u001b[39m_values[key]\n\u001b[0;32m   1039\u001b[0m \u001b[38;5;28;01melif\u001b[39;00m key_is_scalar:\n\u001b[1;32m-> 1040\u001b[0m     \u001b[38;5;28;01mreturn\u001b[39;00m \u001b[38;5;28mself\u001b[39m\u001b[38;5;241m.\u001b[39m_get_value(key)\n\u001b[0;32m   1042\u001b[0m \u001b[38;5;66;03m# Convert generator to list before going through hashable part\u001b[39;00m\n\u001b[0;32m   1043\u001b[0m \u001b[38;5;66;03m# (We will iterate through the generator there to check for slices)\u001b[39;00m\n\u001b[0;32m   1044\u001b[0m \u001b[38;5;28;01mif\u001b[39;00m is_iterator(key):\n",
      "File \u001b[1;32mC:\\ProgramData\\anaconda3\\Lib\\site-packages\\pandas\\core\\series.py:1156\u001b[0m, in \u001b[0;36mSeries._get_value\u001b[1;34m(self, label, takeable)\u001b[0m\n\u001b[0;32m   1153\u001b[0m     \u001b[38;5;28;01mreturn\u001b[39;00m \u001b[38;5;28mself\u001b[39m\u001b[38;5;241m.\u001b[39m_values[label]\n\u001b[0;32m   1155\u001b[0m \u001b[38;5;66;03m# Similar to Index.get_value, but we do not fall back to positional\u001b[39;00m\n\u001b[1;32m-> 1156\u001b[0m loc \u001b[38;5;241m=\u001b[39m \u001b[38;5;28mself\u001b[39m\u001b[38;5;241m.\u001b[39mindex\u001b[38;5;241m.\u001b[39mget_loc(label)\n\u001b[0;32m   1158\u001b[0m \u001b[38;5;28;01mif\u001b[39;00m is_integer(loc):\n\u001b[0;32m   1159\u001b[0m     \u001b[38;5;28;01mreturn\u001b[39;00m \u001b[38;5;28mself\u001b[39m\u001b[38;5;241m.\u001b[39m_values[loc]\n",
      "File \u001b[1;32mC:\\ProgramData\\anaconda3\\Lib\\site-packages\\pandas\\core\\indexes\\base.py:3798\u001b[0m, in \u001b[0;36mIndex.get_loc\u001b[1;34m(self, key)\u001b[0m\n\u001b[0;32m   3793\u001b[0m     \u001b[38;5;28;01mif\u001b[39;00m \u001b[38;5;28misinstance\u001b[39m(casted_key, \u001b[38;5;28mslice\u001b[39m) \u001b[38;5;129;01mor\u001b[39;00m (\n\u001b[0;32m   3794\u001b[0m         \u001b[38;5;28misinstance\u001b[39m(casted_key, abc\u001b[38;5;241m.\u001b[39mIterable)\n\u001b[0;32m   3795\u001b[0m         \u001b[38;5;129;01mand\u001b[39;00m \u001b[38;5;28many\u001b[39m(\u001b[38;5;28misinstance\u001b[39m(x, \u001b[38;5;28mslice\u001b[39m) \u001b[38;5;28;01mfor\u001b[39;00m x \u001b[38;5;129;01min\u001b[39;00m casted_key)\n\u001b[0;32m   3796\u001b[0m     ):\n\u001b[0;32m   3797\u001b[0m         \u001b[38;5;28;01mraise\u001b[39;00m InvalidIndexError(key)\n\u001b[1;32m-> 3798\u001b[0m     \u001b[38;5;28;01mraise\u001b[39;00m \u001b[38;5;167;01mKeyError\u001b[39;00m(key) \u001b[38;5;28;01mfrom\u001b[39;00m \u001b[38;5;21;01merr\u001b[39;00m\n\u001b[0;32m   3799\u001b[0m \u001b[38;5;28;01mexcept\u001b[39;00m \u001b[38;5;167;01mTypeError\u001b[39;00m:\n\u001b[0;32m   3800\u001b[0m     \u001b[38;5;66;03m# If we have a listlike key, _check_indexing_error will raise\u001b[39;00m\n\u001b[0;32m   3801\u001b[0m     \u001b[38;5;66;03m#  InvalidIndexError. Otherwise we fall through and re-raise\u001b[39;00m\n\u001b[0;32m   3802\u001b[0m     \u001b[38;5;66;03m#  the TypeError.\u001b[39;00m\n\u001b[0;32m   3803\u001b[0m     \u001b[38;5;28mself\u001b[39m\u001b[38;5;241m.\u001b[39m_check_indexing_error(key)\n",
      "\u001b[1;31mKeyError\u001b[0m: 0"
     ]
    }
   ],
   "source": [
    "# indeks impliit\n",
    "\n",
    "data_2[0]"
   ]
  },
  {
   "cell_type": "markdown",
   "id": "3b291112-dc92-46fa-bba9-ac90a25a0842",
   "metadata": {},
   "source": [
    "**kita akan coba melakukan data slicing**"
   ]
  },
  {
   "cell_type": "code",
   "execution_count": 34,
   "id": "97616024-0d63-4040-a9bf-4b0757e82b97",
   "metadata": {},
   "outputs": [],
   "source": [
    "data = pd.Series([0.25, 0.50, 0.75, 1], index=['a', 'b', 'c', 'd'])"
   ]
  },
  {
   "cell_type": "code",
   "execution_count": 35,
   "id": "0a7e685b-e6e4-436c-a1fe-5e09ceda4dd6",
   "metadata": {},
   "outputs": [
    {
     "data": {
      "text/plain": [
       "a    0.25\n",
       "b    0.50\n",
       "c    0.75\n",
       "d    1.00\n",
       "dtype: float64"
      ]
     },
     "execution_count": 35,
     "metadata": {},
     "output_type": "execute_result"
    }
   ],
   "source": [
    "data"
   ]
  },
  {
   "cell_type": "markdown",
   "id": "8250c316-1d95-46c9-af3b-677fe52f6cb2",
   "metadata": {},
   "source": [
    "misalnya kita akan memanggil dari data b sampai data c"
   ]
  },
  {
   "cell_type": "code",
   "execution_count": 37,
   "id": "b2bb0b8c-2cfc-4065-8e3c-7070bb0505ab",
   "metadata": {},
   "outputs": [
    {
     "data": {
      "text/plain": [
       "b    0.50\n",
       "c    0.75\n",
       "dtype: float64"
      ]
     },
     "execution_count": 37,
     "metadata": {},
     "output_type": "execute_result"
    }
   ],
   "source": [
    "data['b' :'c'] #indeks eksplisit"
   ]
  },
  {
   "cell_type": "markdown",
   "id": "6e5d59e5-9adc-4281-b3d3-f8e9b1996781",
   "metadata": {},
   "source": [
    "tapi bila kita slicing indeks implisit nya, maka hanya akan muncul titik start nya. karena indeks implisit berupa range"
   ]
  },
  {
   "cell_type": "code",
   "execution_count": 38,
   "id": "33cf4156-616a-4b5d-b0f4-c02ba7c8d86f",
   "metadata": {},
   "outputs": [
    {
     "data": {
      "text/plain": [
       "b    0.5\n",
       "dtype: float64"
      ]
     },
     "execution_count": 38,
     "metadata": {},
     "output_type": "execute_result"
    }
   ],
   "source": [
    "data[1:2] #indeks implisit"
   ]
  },
  {
   "cell_type": "markdown",
   "id": "135c8367-29eb-4cde-b133-a9950f368bd7",
   "metadata": {},
   "source": []
  },
  {
   "cell_type": "markdown",
   "id": "9f9e05bc-5fed-4a82-ad0b-333ea0052fb9",
   "metadata": {},
   "source": [
    "## loc dan iloc"
   ]
  },
  {
   "cell_type": "markdown",
   "id": "674a61ad-e522-4be4-a173-b16e3612584a",
   "metadata": {},
   "source": [
    "contoh data yang index implisit dan index explisit nya ada yang sama"
   ]
  },
  {
   "cell_type": "code",
   "execution_count": 17,
   "id": "ccb8a226-db37-41a1-a988-d0f77998d04b",
   "metadata": {},
   "outputs": [],
   "source": [
    "data_2 = pd.Series([0.25, 0.50, 0.75, 1], index=[2,3,5,7])"
   ]
  },
  {
   "cell_type": "code",
   "execution_count": 18,
   "id": "d5bbdb0c-8f30-452f-a278-623916e1cf64",
   "metadata": {},
   "outputs": [
    {
     "data": {
      "text/plain": [
       "2    0.25\n",
       "3    0.50\n",
       "5    0.75\n",
       "7    1.00\n",
       "dtype: float64"
      ]
     },
     "execution_count": 18,
     "metadata": {},
     "output_type": "execute_result"
    }
   ],
   "source": [
    "data_2"
   ]
  },
  {
   "cell_type": "markdown",
   "id": "8a16167c-648b-485d-9677-9f0ecf686337",
   "metadata": {},
   "source": [
    "ketika kita akses satu index maka yang muncul adalah index ekplisit nya"
   ]
  },
  {
   "cell_type": "code",
   "execution_count": 19,
   "id": "5cc4c24e-f27f-4b7a-afbc-10d8507466a0",
   "metadata": {},
   "outputs": [
    {
     "data": {
      "text/plain": [
       "0.25"
      ]
     },
     "execution_count": 19,
     "metadata": {},
     "output_type": "execute_result"
    }
   ],
   "source": [
    "data_2[2] #index eksplisit : slicing"
   ]
  },
  {
   "cell_type": "markdown",
   "id": "74d0ac1c-e0a5-4f8b-bb98-dc8aa27fe069",
   "metadata": {},
   "source": [
    "ketika kita panggil index eskplisit dari index 2 samapi index 3. nilai yang muncul justru dari index implisit nya"
   ]
  },
  {
   "cell_type": "code",
   "execution_count": 20,
   "id": "e10c01fd-fa63-4b85-ae68-e723c32c2297",
   "metadata": {},
   "outputs": [
    {
     "data": {
      "text/plain": [
       "5    0.75\n",
       "dtype: float64"
      ]
     },
     "execution_count": 20,
     "metadata": {},
     "output_type": "execute_result"
    }
   ],
   "source": [
    "data_2[2:3] #index implisit : slicing"
   ]
  },
  {
   "cell_type": "markdown",
   "id": "4e6a7cb0-3d15-455b-89ab-dbb480c631c9",
   "metadata": {},
   "source": [
    "ketika index eksplisit dan index implisit ada yang sama maka akan terjadi inkonsistensi seperti case di atas"
   ]
  },
  {
   "cell_type": "markdown",
   "id": "b58705ac-c189-4fa9-8c0a-7e375dbf4c27",
   "metadata": {},
   "source": [
    "untuk mengatasi keadaan inkonsistensi tersebut maka kita akan gunakan kaidah loc iloc\n",
    "\n",
    "**loc adaah untuk memanggil index eksplisit nya**\n",
    "\n",
    "**iloc adalah untuk memanggil index implisit nya**"
   ]
  },
  {
   "cell_type": "code",
   "execution_count": 24,
   "id": "82c4c1e5-71c2-495f-8363-fb8156c449f9",
   "metadata": {},
   "outputs": [
    {
     "data": {
      "text/plain": [
       "0.5"
      ]
     },
     "execution_count": 24,
     "metadata": {},
     "output_type": "execute_result"
    }
   ],
   "source": [
    "# loc\n",
    "\n",
    "data_2.loc[3] #selecting index eksplisit"
   ]
  },
  {
   "cell_type": "code",
   "execution_count": 25,
   "id": "dd6cee0a-0e30-48c1-9a7d-34758af919fa",
   "metadata": {},
   "outputs": [
    {
     "data": {
      "text/plain": [
       "2    0.25\n",
       "3    0.50\n",
       "dtype: float64"
      ]
     },
     "execution_count": 25,
     "metadata": {},
     "output_type": "execute_result"
    }
   ],
   "source": [
    "data_2.loc[2:3] #selecting index eksplisit"
   ]
  },
  {
   "cell_type": "code",
   "execution_count": 27,
   "id": "a29fd09b-a729-4feb-8a3f-2b3129df46da",
   "metadata": {},
   "outputs": [
    {
     "data": {
      "text/plain": [
       "0.25"
      ]
     },
     "execution_count": 27,
     "metadata": {},
     "output_type": "execute_result"
    }
   ],
   "source": [
    "#iloc\n",
    "\n",
    "data_2.iloc[0] #selecting index implisit"
   ]
  },
  {
   "cell_type": "code",
   "execution_count": 28,
   "id": "c4010c61-3589-4268-b2e3-f013a66d7906",
   "metadata": {},
   "outputs": [
    {
     "data": {
      "text/plain": [
       "1.0"
      ]
     },
     "execution_count": 28,
     "metadata": {},
     "output_type": "execute_result"
    }
   ],
   "source": [
    "data_2.iloc[3] #selecting index implisit"
   ]
  },
  {
   "cell_type": "code",
   "execution_count": 29,
   "id": "3d102350-964c-4a20-bdfb-8b4098cafd6c",
   "metadata": {},
   "outputs": [
    {
     "data": {
      "text/plain": [
       "5    0.75\n",
       "dtype: float64"
      ]
     },
     "execution_count": 29,
     "metadata": {},
     "output_type": "execute_result"
    }
   ],
   "source": [
    "data_2.iloc[2:3] #selecting index implisit"
   ]
  },
  {
   "cell_type": "markdown",
   "id": "3df7ecdf-61a3-4192-8e0a-5de1bac7db99",
   "metadata": {},
   "source": [
    "## Data Frame"
   ]
  },
  {
   "cell_type": "code",
   "execution_count": 30,
   "id": "d26174f8-fa44-4194-b468-e9fcf7369aaa",
   "metadata": {},
   "outputs": [],
   "source": [
    "dict_populasi = {'jakarta' : 750,\n",
    "                 'Bogor' : 490,\n",
    "                 'Pandeglang' : 123,\n",
    "                 'Banten' : 456,\n",
    "                 'Serang' : 789}\n",
    "\n",
    "#ini hanya permisalan, bukan angka populasi yang sesungguhnya"
   ]
  },
  {
   "cell_type": "code",
   "execution_count": 31,
   "id": "0005c10c-dd51-4ef9-ac1d-435ebefd706f",
   "metadata": {},
   "outputs": [
    {
     "data": {
      "text/plain": [
       "{'jakarta': 750, 'Bogor': 490, 'Pandeglang': 123, 'Banten': 456, 'Serang': 789}"
      ]
     },
     "execution_count": 31,
     "metadata": {},
     "output_type": "execute_result"
    }
   ],
   "source": [
    "dict_populasi"
   ]
  },
  {
   "cell_type": "code",
   "execution_count": 34,
   "id": "34f4eb3a-e928-4ec3-9f67-dad3c17a64fe",
   "metadata": {},
   "outputs": [],
   "source": [
    "# transformasi dictionary ke Series\n",
    "\n",
    "populasi = pd.Series(dict_populasi)"
   ]
  },
  {
   "cell_type": "code",
   "execution_count": 35,
   "id": "09b6d946-d007-4fb0-8fa0-1e8772534658",
   "metadata": {},
   "outputs": [
    {
     "data": {
      "text/plain": [
       "jakarta       750\n",
       "Bogor         490\n",
       "Pandeglang    123\n",
       "Banten        456\n",
       "Serang        789\n",
       "dtype: int64"
      ]
     },
     "execution_count": 35,
     "metadata": {},
     "output_type": "execute_result"
    }
   ],
   "source": [
    "populasi"
   ]
  },
  {
   "cell_type": "code",
   "execution_count": 36,
   "id": "a493ce47-4c68-4342-b232-ac34f2ced901",
   "metadata": {},
   "outputs": [
    {
     "data": {
      "text/plain": [
       "123"
      ]
     },
     "execution_count": 36,
     "metadata": {},
     "output_type": "execute_result"
    }
   ],
   "source": [
    "populasi.loc['Pandeglang']"
   ]
  },
  {
   "cell_type": "code",
   "execution_count": 37,
   "id": "79caf546-a8db-4132-8627-448e6eaf3d2e",
   "metadata": {},
   "outputs": [
    {
     "data": {
      "text/plain": [
       "123"
      ]
     },
     "execution_count": 37,
     "metadata": {},
     "output_type": "execute_result"
    }
   ],
   "source": [
    "populasi.iloc[2]"
   ]
  },
  {
   "cell_type": "code",
   "execution_count": 38,
   "id": "b2b7b497-7f48-4cb0-8f16-2e857f181976",
   "metadata": {},
   "outputs": [],
   "source": [
    "dict_luas = {'jakarta' : 750,\n",
    "                 'Bogor' : 490,\n",
    "                 'Pandeglang' : 123,\n",
    "                 'Banten' : 456,\n",
    "                 'Serang' : 789}\n",
    "\n",
    "#ini hanya permisalan, bukan angka luas yang sesungguhnya"
   ]
  },
  {
   "cell_type": "code",
   "execution_count": 40,
   "id": "08e4a312-79cc-4b6d-8f90-ebf03014ed67",
   "metadata": {},
   "outputs": [
    {
     "data": {
      "text/plain": [
       "{'jakarta': 750, 'Bogor': 490, 'Pandeglang': 123, 'Banten': 456, 'Serang': 789}"
      ]
     },
     "execution_count": 40,
     "metadata": {},
     "output_type": "execute_result"
    }
   ],
   "source": [
    "dict_luas"
   ]
  },
  {
   "cell_type": "code",
   "execution_count": 41,
   "id": "03dbb47e-8d01-4c48-bd68-0c4ade7c03be",
   "metadata": {},
   "outputs": [],
   "source": [
    "# transformasi dictionary ke Series\n",
    "\n",
    "luas = pd.Series(dict_luas)"
   ]
  },
  {
   "cell_type": "code",
   "execution_count": 42,
   "id": "e388f1f9-0bdf-4d64-8881-85b31be2f055",
   "metadata": {},
   "outputs": [
    {
     "data": {
      "text/plain": [
       "jakarta       750\n",
       "Bogor         490\n",
       "Pandeglang    123\n",
       "Banten        456\n",
       "Serang        789\n",
       "dtype: int64"
      ]
     },
     "execution_count": 42,
     "metadata": {},
     "output_type": "execute_result"
    }
   ],
   "source": [
    "luas"
   ]
  },
  {
   "cell_type": "code",
   "execution_count": 43,
   "id": "121e89da-e877-4be9-a62d-91904c5c9e59",
   "metadata": {},
   "outputs": [],
   "source": [
    "daerah = pd.DataFrame({'pop':populasi, 'luas daerah':luas})"
   ]
  },
  {
   "cell_type": "code",
   "execution_count": 44,
   "id": "68e44af3-d671-4121-9c19-94e5406dd7a0",
   "metadata": {},
   "outputs": [
    {
     "data": {
      "text/html": [
       "<div>\n",
       "<style scoped>\n",
       "    .dataframe tbody tr th:only-of-type {\n",
       "        vertical-align: middle;\n",
       "    }\n",
       "\n",
       "    .dataframe tbody tr th {\n",
       "        vertical-align: top;\n",
       "    }\n",
       "\n",
       "    .dataframe thead th {\n",
       "        text-align: right;\n",
       "    }\n",
       "</style>\n",
       "<table border=\"1\" class=\"dataframe\">\n",
       "  <thead>\n",
       "    <tr style=\"text-align: right;\">\n",
       "      <th></th>\n",
       "      <th>pop</th>\n",
       "      <th>luas daerah</th>\n",
       "    </tr>\n",
       "  </thead>\n",
       "  <tbody>\n",
       "    <tr>\n",
       "      <th>jakarta</th>\n",
       "      <td>750</td>\n",
       "      <td>750</td>\n",
       "    </tr>\n",
       "    <tr>\n",
       "      <th>Bogor</th>\n",
       "      <td>490</td>\n",
       "      <td>490</td>\n",
       "    </tr>\n",
       "    <tr>\n",
       "      <th>Pandeglang</th>\n",
       "      <td>123</td>\n",
       "      <td>123</td>\n",
       "    </tr>\n",
       "    <tr>\n",
       "      <th>Banten</th>\n",
       "      <td>456</td>\n",
       "      <td>456</td>\n",
       "    </tr>\n",
       "    <tr>\n",
       "      <th>Serang</th>\n",
       "      <td>789</td>\n",
       "      <td>789</td>\n",
       "    </tr>\n",
       "  </tbody>\n",
       "</table>\n",
       "</div>"
      ],
      "text/plain": [
       "            pop  luas daerah\n",
       "jakarta     750          750\n",
       "Bogor       490          490\n",
       "Pandeglang  123          123\n",
       "Banten      456          456\n",
       "Serang      789          789"
      ]
     },
     "execution_count": 44,
     "metadata": {},
     "output_type": "execute_result"
    }
   ],
   "source": [
    "daerah"
   ]
  },
  {
   "cell_type": "code",
   "execution_count": 45,
   "id": "00a06aa0-595c-4df6-8795-7f40a65587cd",
   "metadata": {},
   "outputs": [
    {
     "data": {
      "text/plain": [
       "jakarta       750\n",
       "Bogor         490\n",
       "Pandeglang    123\n",
       "Banten        456\n",
       "Serang        789\n",
       "Name: luas daerah, dtype: int64"
      ]
     },
     "execution_count": 45,
     "metadata": {},
     "output_type": "execute_result"
    }
   ],
   "source": [
    "daerah['luas daerah']"
   ]
  },
  {
   "cell_type": "code",
   "execution_count": 46,
   "id": "46446cc7-0674-40ad-9148-80acc6f70b74",
   "metadata": {},
   "outputs": [
    {
     "data": {
      "text/plain": [
       "750"
      ]
     },
     "execution_count": 46,
     "metadata": {},
     "output_type": "execute_result"
    }
   ],
   "source": [
    "daerah['luas daerah']['jakarta']"
   ]
  },
  {
   "cell_type": "markdown",
   "id": "63a337e4-730e-45d4-8d27-92ad3fb3a431",
   "metadata": {},
   "source": []
  },
  {
   "cell_type": "markdown",
   "id": "99a19bb0-7b7c-473d-bc12-768e3e1dfb30",
   "metadata": {},
   "source": [
    "## Task"
   ]
  },
  {
   "cell_type": "markdown",
   "id": "bf8d97a3-201a-4838-9bb8-922af1699c65",
   "metadata": {},
   "source": [
    "**Task 1**"
   ]
  },
  {
   "cell_type": "code",
   "execution_count": 3,
   "id": "94f1a8de-39c9-414b-98b4-58a20bd35006",
   "metadata": {},
   "outputs": [],
   "source": [
    "# Checking NumPy Version\n",
    "\n",
    "print(np.__version__)"
   ]
  },
  {
   "cell_type": "code",
   "execution_count": 7,
   "id": "ec414a9c-4bf2-4f7c-b629-8cff7e1d375b",
   "metadata": {},
   "outputs": [
    {
     "name": "stdout",
     "output_type": "stream",
     "text": [
      "List in python : [10, 20, 30]\n"
     ]
    }
   ],
   "source": [
    "# Numpy from list\n",
    "\n",
    "list = [10, 20, 30]\n",
    "print(\"List in python :\", list)"
   ]
  },
  {
   "cell_type": "code",
   "execution_count": 11,
   "id": "5ad4ca48-67e9-4e5c-8168-47508f8f906a",
   "metadata": {},
   "outputs": [
    {
     "name": "stdout",
     "output_type": "stream",
     "text": [
      "['Aswinah' '1' '2' '3']\n",
      "<class 'numpy.ndarray'>\n"
     ]
    }
   ],
   "source": [
    "# NumPy from Tuple\n",
    "\n",
    "arr = np.array((\"Aswinah\", 1, 2, 3))\n",
    "                \n",
    "print(arr)\n",
    "                \n",
    "print(type(arr))"
   ]
  },
  {
   "cell_type": "markdown",
   "id": "8a34dbc1-7986-4fe7-b88b-121465226e34",
   "metadata": {},
   "source": [
    "**Task 2**\n",
    "- membuat Series\n",
    "- membuat indeks eksplisit (custom)\n",
    "- memanggil indeks eksplisit\n",
    "- panggil indeks implisit (default)"
   ]
  },
  {
   "cell_type": "code",
   "execution_count": 27,
   "id": "7e2b8eef-d039-4dcd-b86e-80ab6febaf14",
   "metadata": {},
   "outputs": [],
   "source": [
    "# Customer index\n",
    "\n",
    "ood_number = pd.Series([1, 3, 5, 7, 9], index=['e', 'f', 'g', 'h', 'i'])"
   ]
  },
  {
   "cell_type": "code",
   "execution_count": 28,
   "id": "393ba8b1-60b4-463c-a310-ce672fbbfbe0",
   "metadata": {},
   "outputs": [
    {
     "data": {
      "text/plain": [
       "e    1\n",
       "f    3\n",
       "g    5\n",
       "h    7\n",
       "i    9\n",
       "dtype: int64"
      ]
     },
     "execution_count": 28,
     "metadata": {},
     "output_type": "execute_result"
    }
   ],
   "source": [
    "ood_number"
   ]
  },
  {
   "cell_type": "code",
   "execution_count": 29,
   "id": "87435e1b-97aa-4a9f-b596-9958d90e9c8e",
   "metadata": {},
   "outputs": [
    {
     "data": {
      "text/plain": [
       "array([1, 3, 5, 7, 9], dtype=int64)"
      ]
     },
     "execution_count": 29,
     "metadata": {},
     "output_type": "execute_result"
    }
   ],
   "source": [
    "ood_number.values"
   ]
  },
  {
   "cell_type": "code",
   "execution_count": 30,
   "id": "4a2beaac-4b4a-4446-a023-35eff5bcc414",
   "metadata": {},
   "outputs": [
    {
     "data": {
      "text/plain": [
       "Index(['e', 'f', 'g', 'h', 'i'], dtype='object')"
      ]
     },
     "execution_count": 30,
     "metadata": {},
     "output_type": "execute_result"
    }
   ],
   "source": [
    "ood_number.index"
   ]
  },
  {
   "cell_type": "code",
   "execution_count": 31,
   "id": "6eca3364-19a6-464f-bdb5-253d64ab0f79",
   "metadata": {},
   "outputs": [
    {
     "data": {
      "text/plain": [
       "7"
      ]
     },
     "execution_count": 31,
     "metadata": {},
     "output_type": "execute_result"
    }
   ],
   "source": [
    "# indeks eksplisit\n",
    "\n",
    "ood_number['h']"
   ]
  },
  {
   "cell_type": "code",
   "execution_count": 32,
   "id": "2e665d5f-9f3d-4367-9827-217121aeed7b",
   "metadata": {},
   "outputs": [
    {
     "name": "stderr",
     "output_type": "stream",
     "text": [
      "C:\\Users\\Win 10\\AppData\\Local\\Temp\\ipykernel_1900\\828689558.py:3: FutureWarning: Series.__getitem__ treating keys as positions is deprecated. In a future version, integer keys will always be treated as labels (consistent with DataFrame behavior). To access a value by position, use `ser.iloc[pos]`\n",
      "  ood_number[2]\n"
     ]
    },
    {
     "data": {
      "text/plain": [
       "5"
      ]
     },
     "execution_count": 32,
     "metadata": {},
     "output_type": "execute_result"
    }
   ],
   "source": [
    "# index implisit\n",
    "\n",
    "ood_number[2]"
   ]
  },
  {
   "cell_type": "markdown",
   "id": "84b06c05-50bc-490f-ac65-d239431e9d3a",
   "metadata": {},
   "source": [
    "**Task 3**\n",
    "- membuat Series\n",
    "- membuat indeks eksplisit (custom) ada kesamaan dengan index default\n",
    "- memanggil indeks eksplisit\n",
    "- panggil indeks implisit (default)"
   ]
  },
  {
   "cell_type": "code",
   "execution_count": 39,
   "id": "859c1e70-83c0-4ddc-8ecf-7bbca277fb14",
   "metadata": {},
   "outputs": [],
   "source": [
    "names = ['Aswin', 'Andhito', 'Alnima', 'Shafira', 'Laksmi']\n",
    "data = [100, 200, 300, 400, 500]\n",
    "names_with_data = pd.Series(names, index=data)"
   ]
  },
  {
   "cell_type": "code",
   "execution_count": 41,
   "id": "cb4c2b36-1cac-4d28-9b57-25ca9c84fb1e",
   "metadata": {},
   "outputs": [
    {
     "name": "stdout",
     "output_type": "stream",
     "text": [
      "100      Aswin\n",
      "200    Andhito\n",
      "300     Alnima\n",
      "400    Shafira\n",
      "500     Laksmi\n",
      "dtype: object\n"
     ]
    }
   ],
   "source": [
    "print(names_with_data)"
   ]
  },
  {
   "cell_type": "code",
   "execution_count": 42,
   "id": "c148a6d4-fc9c-4c86-8005-f1c7f9953e60",
   "metadata": {},
   "outputs": [
    {
     "data": {
      "text/plain": [
       "array(['Aswin', 'Andhito', 'Alnima', 'Shafira', 'Laksmi'], dtype=object)"
      ]
     },
     "execution_count": 42,
     "metadata": {},
     "output_type": "execute_result"
    }
   ],
   "source": [
    "names_with_data.values"
   ]
  },
  {
   "cell_type": "code",
   "execution_count": 43,
   "id": "9e6fba2b-250d-4983-b464-bd2736399fb4",
   "metadata": {},
   "outputs": [
    {
     "data": {
      "text/plain": [
       "Index([100, 200, 300, 400, 500], dtype='int64')"
      ]
     },
     "execution_count": 43,
     "metadata": {},
     "output_type": "execute_result"
    }
   ],
   "source": [
    "names_with_data.index"
   ]
  },
  {
   "cell_type": "code",
   "execution_count": 44,
   "id": "18cd4f56-01ef-4050-a1ec-ab2f47083075",
   "metadata": {},
   "outputs": [
    {
     "data": {
      "text/plain": [
       "'Aswin'"
      ]
     },
     "execution_count": 44,
     "metadata": {},
     "output_type": "execute_result"
    }
   ],
   "source": [
    "# index explisit\n",
    "\n",
    "names_with_data[100]"
   ]
  },
  {
   "cell_type": "code",
   "execution_count": 45,
   "id": "c0aa3b33-e11f-484a-a8ab-b3798d8a601e",
   "metadata": {},
   "outputs": [
    {
     "ename": "KeyError",
     "evalue": "2",
     "output_type": "error",
     "traceback": [
      "\u001b[1;31m---------------------------------------------------------------------------\u001b[0m",
      "\u001b[1;31mKeyError\u001b[0m                                  Traceback (most recent call last)",
      "File \u001b[1;32mC:\\ProgramData\\anaconda3\\Lib\\site-packages\\pandas\\core\\indexes\\base.py:3791\u001b[0m, in \u001b[0;36mIndex.get_loc\u001b[1;34m(self, key)\u001b[0m\n\u001b[0;32m   3790\u001b[0m \u001b[38;5;28;01mtry\u001b[39;00m:\n\u001b[1;32m-> 3791\u001b[0m     \u001b[38;5;28;01mreturn\u001b[39;00m \u001b[38;5;28mself\u001b[39m\u001b[38;5;241m.\u001b[39m_engine\u001b[38;5;241m.\u001b[39mget_loc(casted_key)\n\u001b[0;32m   3792\u001b[0m \u001b[38;5;28;01mexcept\u001b[39;00m \u001b[38;5;167;01mKeyError\u001b[39;00m \u001b[38;5;28;01mas\u001b[39;00m err:\n",
      "File \u001b[1;32mindex.pyx:152\u001b[0m, in \u001b[0;36mpandas._libs.index.IndexEngine.get_loc\u001b[1;34m()\u001b[0m\n",
      "File \u001b[1;32mindex.pyx:181\u001b[0m, in \u001b[0;36mpandas._libs.index.IndexEngine.get_loc\u001b[1;34m()\u001b[0m\n",
      "File \u001b[1;32mpandas\\_libs\\hashtable_class_helper.pxi:2606\u001b[0m, in \u001b[0;36mpandas._libs.hashtable.Int64HashTable.get_item\u001b[1;34m()\u001b[0m\n",
      "File \u001b[1;32mpandas\\_libs\\hashtable_class_helper.pxi:2630\u001b[0m, in \u001b[0;36mpandas._libs.hashtable.Int64HashTable.get_item\u001b[1;34m()\u001b[0m\n",
      "\u001b[1;31mKeyError\u001b[0m: 2",
      "\nThe above exception was the direct cause of the following exception:\n",
      "\u001b[1;31mKeyError\u001b[0m                                  Traceback (most recent call last)",
      "Cell \u001b[1;32mIn[45], line 3\u001b[0m\n\u001b[0;32m      1\u001b[0m \u001b[38;5;66;03m# index implisit\u001b[39;00m\n\u001b[1;32m----> 3\u001b[0m names_with_data[\u001b[38;5;241m2\u001b[39m]\n",
      "File \u001b[1;32mC:\\ProgramData\\anaconda3\\Lib\\site-packages\\pandas\\core\\series.py:1040\u001b[0m, in \u001b[0;36mSeries.__getitem__\u001b[1;34m(self, key)\u001b[0m\n\u001b[0;32m   1037\u001b[0m     \u001b[38;5;28;01mreturn\u001b[39;00m \u001b[38;5;28mself\u001b[39m\u001b[38;5;241m.\u001b[39m_values[key]\n\u001b[0;32m   1039\u001b[0m \u001b[38;5;28;01melif\u001b[39;00m key_is_scalar:\n\u001b[1;32m-> 1040\u001b[0m     \u001b[38;5;28;01mreturn\u001b[39;00m \u001b[38;5;28mself\u001b[39m\u001b[38;5;241m.\u001b[39m_get_value(key)\n\u001b[0;32m   1042\u001b[0m \u001b[38;5;66;03m# Convert generator to list before going through hashable part\u001b[39;00m\n\u001b[0;32m   1043\u001b[0m \u001b[38;5;66;03m# (We will iterate through the generator there to check for slices)\u001b[39;00m\n\u001b[0;32m   1044\u001b[0m \u001b[38;5;28;01mif\u001b[39;00m is_iterator(key):\n",
      "File \u001b[1;32mC:\\ProgramData\\anaconda3\\Lib\\site-packages\\pandas\\core\\series.py:1156\u001b[0m, in \u001b[0;36mSeries._get_value\u001b[1;34m(self, label, takeable)\u001b[0m\n\u001b[0;32m   1153\u001b[0m     \u001b[38;5;28;01mreturn\u001b[39;00m \u001b[38;5;28mself\u001b[39m\u001b[38;5;241m.\u001b[39m_values[label]\n\u001b[0;32m   1155\u001b[0m \u001b[38;5;66;03m# Similar to Index.get_value, but we do not fall back to positional\u001b[39;00m\n\u001b[1;32m-> 1156\u001b[0m loc \u001b[38;5;241m=\u001b[39m \u001b[38;5;28mself\u001b[39m\u001b[38;5;241m.\u001b[39mindex\u001b[38;5;241m.\u001b[39mget_loc(label)\n\u001b[0;32m   1158\u001b[0m \u001b[38;5;28;01mif\u001b[39;00m is_integer(loc):\n\u001b[0;32m   1159\u001b[0m     \u001b[38;5;28;01mreturn\u001b[39;00m \u001b[38;5;28mself\u001b[39m\u001b[38;5;241m.\u001b[39m_values[loc]\n",
      "File \u001b[1;32mC:\\ProgramData\\anaconda3\\Lib\\site-packages\\pandas\\core\\indexes\\base.py:3798\u001b[0m, in \u001b[0;36mIndex.get_loc\u001b[1;34m(self, key)\u001b[0m\n\u001b[0;32m   3793\u001b[0m     \u001b[38;5;28;01mif\u001b[39;00m \u001b[38;5;28misinstance\u001b[39m(casted_key, \u001b[38;5;28mslice\u001b[39m) \u001b[38;5;129;01mor\u001b[39;00m (\n\u001b[0;32m   3794\u001b[0m         \u001b[38;5;28misinstance\u001b[39m(casted_key, abc\u001b[38;5;241m.\u001b[39mIterable)\n\u001b[0;32m   3795\u001b[0m         \u001b[38;5;129;01mand\u001b[39;00m \u001b[38;5;28many\u001b[39m(\u001b[38;5;28misinstance\u001b[39m(x, \u001b[38;5;28mslice\u001b[39m) \u001b[38;5;28;01mfor\u001b[39;00m x \u001b[38;5;129;01min\u001b[39;00m casted_key)\n\u001b[0;32m   3796\u001b[0m     ):\n\u001b[0;32m   3797\u001b[0m         \u001b[38;5;28;01mraise\u001b[39;00m InvalidIndexError(key)\n\u001b[1;32m-> 3798\u001b[0m     \u001b[38;5;28;01mraise\u001b[39;00m \u001b[38;5;167;01mKeyError\u001b[39;00m(key) \u001b[38;5;28;01mfrom\u001b[39;00m \u001b[38;5;21;01merr\u001b[39;00m\n\u001b[0;32m   3799\u001b[0m \u001b[38;5;28;01mexcept\u001b[39;00m \u001b[38;5;167;01mTypeError\u001b[39;00m:\n\u001b[0;32m   3800\u001b[0m     \u001b[38;5;66;03m# If we have a listlike key, _check_indexing_error will raise\u001b[39;00m\n\u001b[0;32m   3801\u001b[0m     \u001b[38;5;66;03m#  InvalidIndexError. Otherwise we fall through and re-raise\u001b[39;00m\n\u001b[0;32m   3802\u001b[0m     \u001b[38;5;66;03m#  the TypeError.\u001b[39;00m\n\u001b[0;32m   3803\u001b[0m     \u001b[38;5;28mself\u001b[39m\u001b[38;5;241m.\u001b[39m_check_indexing_error(key)\n",
      "\u001b[1;31mKeyError\u001b[0m: 2"
     ]
    }
   ],
   "source": [
    "# index implisit\n",
    "\n",
    "names_with_data[2]"
   ]
  },
  {
   "cell_type": "markdown",
   "id": "9694b757-246c-48b9-838c-218608aad2d6",
   "metadata": {},
   "source": [
    "**Task 4**\n",
    "- membuat Series\n",
    "- membuat indeks eksplisit \n",
    "- panggil slicing eksplisit\n",
    "- panggil slicing implisit"
   ]
  },
  {
   "cell_type": "code",
   "execution_count": 46,
   "id": "5bc14595-1409-4946-b7fe-830cdf80e25b",
   "metadata": {},
   "outputs": [],
   "source": [
    "data = [10, 20, 30, 40, 50]\n",
    "index_labels = ['A', 'B', 'C', 'D', 'E']\n",
    "series = pd.Series(data, index=index_labels)"
   ]
  },
  {
   "cell_type": "code",
   "execution_count": 47,
   "id": "d91a5709-496b-4e9c-8958-f21a78327be0",
   "metadata": {},
   "outputs": [
    {
     "name": "stdout",
     "output_type": "stream",
     "text": [
      "A    10\n",
      "B    20\n",
      "C    30\n",
      "D    40\n",
      "E    50\n",
      "dtype: int64\n"
     ]
    }
   ],
   "source": [
    "print(series)"
   ]
  },
  {
   "cell_type": "code",
   "execution_count": 48,
   "id": "43ef8e87-9030-4435-9358-bf9581f87d17",
   "metadata": {},
   "outputs": [
    {
     "name": "stdout",
     "output_type": "stream",
     "text": [
      "Slice using explicit index labels :\n",
      "B    20\n",
      "C    30\n",
      "D    40\n",
      "dtype: int64\n"
     ]
    }
   ],
   "source": [
    "# slicing using explicit index labels\n",
    "\n",
    "slicel = series['B':'D'] # slicing from index 'B' to 'D' (inclusive)\n",
    "print(\"Slice using explicit index labels :\")\n",
    "print(slicel)"
   ]
  },
  {
   "cell_type": "code",
   "execution_count": 49,
   "id": "49da99d2-9a72-46a3-ad96-9caa7a031f7d",
   "metadata": {},
   "outputs": [
    {
     "name": "stdout",
     "output_type": "stream",
     "text": [
      "Slice using implicit Integer index :\n",
      "A    10\n",
      "dtype: int64\n"
     ]
    }
   ],
   "source": [
    "# slicing using implicit integer index\n",
    "\n",
    "slice2 = series[0:1] #slicing from index position 0 to 1 (excusive)\n",
    "print(\"Slice using implicit Integer index :\")\n",
    "print(slice2)"
   ]
  },
  {
   "cell_type": "markdown",
   "id": "2fb492c4-a12f-42e0-9de5-9ed82dd79168",
   "metadata": {},
   "source": [
    "**Task 5**\n",
    "- Membuat series\n",
    "- Membuat index eksplicit\n",
    "- Panggil loc\n",
    "- Panggil iloc"
   ]
  },
  {
   "cell_type": "code",
   "execution_count": 52,
   "id": "eb8ac18b-a491-4ec0-bc33-3a927a5ebb4c",
   "metadata": {},
   "outputs": [
    {
     "name": "stdout",
     "output_type": "stream",
     "text": [
      "0    1\n",
      "1    3\n",
      "2    5\n",
      "3    7\n",
      "4    9\n",
      "dtype: int64\n"
     ]
    }
   ],
   "source": [
    "#Create a Series\n",
    "\n",
    "ood_number = [1, 3, 5, 7, 9]\n",
    "ood_number = pd.Series(ood_number)\n",
    "\n",
    "print(ood_number)"
   ]
  },
  {
   "cell_type": "code",
   "execution_count": 53,
   "id": "f0a0dad9-b692-455c-a097-bded37ac6294",
   "metadata": {},
   "outputs": [],
   "source": [
    "# create index explicit\n",
    "\n",
    "ood_number2 = pd.Series([1, 3, 5, 7, 9], index=[3, 5, 1, 8, 7])"
   ]
  },
  {
   "cell_type": "code",
   "execution_count": 55,
   "id": "28057861-c64f-4482-9429-48f25663bbd8",
   "metadata": {},
   "outputs": [
    {
     "data": {
      "text/plain": [
       "3    1\n",
       "5    3\n",
       "1    5\n",
       "dtype: int64"
      ]
     },
     "execution_count": 55,
     "metadata": {},
     "output_type": "execute_result"
    }
   ],
   "source": [
    "#memanggil loc\n",
    "\n",
    "ood_number2.loc[3:1]"
   ]
  },
  {
   "cell_type": "code",
   "execution_count": 57,
   "id": "c3b1e1eb-e111-4df1-b38d-28114793cf6a",
   "metadata": {},
   "outputs": [
    {
     "data": {
      "text/plain": [
       "3    1\n",
       "5    3\n",
       "dtype: int64"
      ]
     },
     "execution_count": 57,
     "metadata": {},
     "output_type": "execute_result"
    }
   ],
   "source": [
    "#memanggil iloc\n",
    "\n",
    "ood_number2.iloc[0:2]"
   ]
  },
  {
   "cell_type": "markdown",
   "id": "af7e0c87-bc76-488a-bfbc-1529b06251af",
   "metadata": {},
   "source": [
    "**Task 6**\n",
    "- membuat Series menggunakan dictionary\n",
    "- panggil loc\n",
    "- panggil iloc"
   ]
  },
  {
   "cell_type": "code",
   "execution_count": 59,
   "id": "f4776738-c410-43f7-b55b-f399b9bc2c89",
   "metadata": {},
   "outputs": [],
   "source": [
    "dict_snack = {'Biskuit':20,\n",
    "              'Bengbeng':51,\n",
    "              'Tango':37,\n",
    "              'Nabati':29}"
   ]
  },
  {
   "cell_type": "code",
   "execution_count": 60,
   "id": "18483687-cb12-4ebf-bf9c-dc7385b02ce4",
   "metadata": {},
   "outputs": [
    {
     "data": {
      "text/plain": [
       "{'Biskuit': 20, 'Bengbeng': 51, 'Tango': 37, 'Nabati': 29}"
      ]
     },
     "execution_count": 60,
     "metadata": {},
     "output_type": "execute_result"
    }
   ],
   "source": [
    "dict_snack"
   ]
  },
  {
   "cell_type": "code",
   "execution_count": 63,
   "id": "282b5e01-3cc3-4679-8ad8-39a0df9e3c26",
   "metadata": {},
   "outputs": [],
   "source": [
    "#transformasi dictionary ke Series\n",
    "\n",
    "snack = pd.Series(dict_snack)"
   ]
  },
  {
   "cell_type": "code",
   "execution_count": 64,
   "id": "67fef37b-e1f2-4aa4-966f-55e05e2ac4cb",
   "metadata": {},
   "outputs": [
    {
     "data": {
      "text/plain": [
       "Biskuit     20\n",
       "Bengbeng    51\n",
       "Tango       37\n",
       "Nabati      29\n",
       "dtype: int64"
      ]
     },
     "execution_count": 64,
     "metadata": {},
     "output_type": "execute_result"
    }
   ],
   "source": [
    "snack"
   ]
  },
  {
   "cell_type": "code",
   "execution_count": 65,
   "id": "6263bc76-4738-4f39-9e93-77cb0775091c",
   "metadata": {},
   "outputs": [
    {
     "data": {
      "text/plain": [
       "37"
      ]
     },
     "execution_count": 65,
     "metadata": {},
     "output_type": "execute_result"
    }
   ],
   "source": [
    "snack.loc['Tango']"
   ]
  },
  {
   "cell_type": "code",
   "execution_count": 66,
   "id": "360d913f-b1b1-49aa-8ff0-a0bbde660413",
   "metadata": {},
   "outputs": [
    {
     "data": {
      "text/plain": [
       "20"
      ]
     },
     "execution_count": 66,
     "metadata": {},
     "output_type": "execute_result"
    }
   ],
   "source": [
    "snack.iloc[0]"
   ]
  }
 ],
 "metadata": {
  "kernelspec": {
   "display_name": "Python 3 (ipykernel)",
   "language": "python",
   "name": "python3"
  },
  "language_info": {
   "codemirror_mode": {
    "name": "ipython",
    "version": 3
   },
   "file_extension": ".py",
   "mimetype": "text/x-python",
   "name": "python",
   "nbconvert_exporter": "python",
   "pygments_lexer": "ipython3",
   "version": "3.11.7"
  }
 },
 "nbformat": 4,
 "nbformat_minor": 5
}
